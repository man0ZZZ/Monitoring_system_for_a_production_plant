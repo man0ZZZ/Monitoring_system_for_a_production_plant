{
  "nbformat": 4,
  "nbformat_minor": 0,
  "metadata": {
    "colab": {
      "provenance": []
    },
    "kernelspec": {
      "name": "python3",
      "display_name": "Python 3"
    },
    "language_info": {
      "name": "python"
    }
  },
  "cells": [
    {
      "cell_type": "code",
      "execution_count": null,
      "metadata": {
        "id": "M0LNzC_dZHFR"
      },
      "outputs": [],
      "source": [
        "import numpy as np\n",
        "import pandas as pd\n",
        "import tensorflow as tf"
      ]
    },
    {
      "cell_type": "code",
      "source": [
        "# Load the saved model\n",
        "model_path = \"anomaly_detection_model_dir\"\n",
        "loaded_model = tf.keras.models.load_model(model_path)"
      ],
      "metadata": {
        "id": "1fOSfwReq3g7"
      },
      "execution_count": null,
      "outputs": []
    },
    {
      "cell_type": "code",
      "source": [
        "# create test data point\n",
        "data_point = np.random.rand(1, 25)"
      ],
      "metadata": {
        "id": "7JjQEsRPq9zQ"
      },
      "execution_count": null,
      "outputs": []
    },
    {
      "cell_type": "code",
      "source": [
        "#normalizing the data\n",
        "#normalized data\n",
        "from sklearn.preprocessing import MinMaxScaler\n",
        "mms=MinMaxScaler()\n",
        "scaled_data_point=mms.fit_transform(data_point)"
      ],
      "metadata": {
        "id": "ps5W5WlSrIDR"
      },
      "execution_count": null,
      "outputs": []
    },
    {
      "cell_type": "code",
      "source": [
        "# making predictions\n",
        "reconstructed_data = loaded_model.predict(example_data)\n",
        "mse = np.mean(np.square(example_data - reconstructed_data))\n",
        "threshold = 0.059\n",
        "\n",
        "# Determine if the data is normal or anomalous\n",
        "anomaly_status = \"anomalous\" if mse < threshold else \"normal\"\n",
        "anomaly_status"
      ],
      "metadata": {
        "id": "nuDk7tjSrp96"
      },
      "execution_count": null,
      "outputs": []
    }
  ]
}