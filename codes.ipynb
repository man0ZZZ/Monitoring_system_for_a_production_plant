{
  "nbformat": 4,
  "nbformat_minor": 0,
  "metadata": {
    "colab": {
      "provenance": [],
      "mount_file_id": "1WZ1fucO_k0wc3HXkciVz6PUC2qvIBwSN",
      "authorship_tag": "ABX9TyPt2dzJueBwP4EOjPGmBsfc",
      "include_colab_link": true
    },
    "kernelspec": {
      "name": "python3",
      "display_name": "Python 3"
    },
    "language_info": {
      "name": "python"
    }
  },
  "cells": [
    {
      "cell_type": "markdown",
      "metadata": {
        "id": "view-in-github",
        "colab_type": "text"
      },
      "source": [
        "<a href=\"https://colab.research.google.com/github/man0ZZZ/topiDhunga/blob/main/model_selection_and_optimization.ipynb\" target=\"_parent\"><img src=\"https://colab.research.google.com/assets/colab-badge.svg\" alt=\"Open In Colab\"/></a>"
      ]
    },
    {
      "cell_type": "code",
      "execution_count": null,
      "metadata": {
        "id": "v4Da7CaJf4nS"
      },
      "outputs": [],
      "source": [
        "import pandas as pd\n",
        "import numpy as np\n",
        "import matplotlib.pyplot as plt\n"
      ]
    },
    {
      "cell_type": "code",
      "source": [
        "df14=pd.read_csv('/content/C14.csv')\n",
        "df14.tail(10)"
      ],
      "metadata": {
        "colab": {
          "base_uri": "https://localhost:8080/",
          "height": 456
        },
        "id": "C21CtQwjgFdx",
        "outputId": "cec2b257-752f-4489-a532-4aa2a20926b4"
      },
      "execution_count": null,
      "outputs": [
        {
          "output_type": "execute_result",
          "data": {
            "text/plain": [
              "       Timestamp        L_1        L_2        A_1        A_2        B_1  \\\n",
              "32838      32838 -56.674260  15.247918  62.375181  50.409755  44.294711   \n",
              "32839      32839 -56.674260  14.241332  62.329446  50.396643  44.254080   \n",
              "32840      32840 -56.674260  18.354666  62.344691  50.370419  44.240536   \n",
              "32841      32841 -83.842065 -19.920467  25.040018  15.819839  10.909460   \n",
              "32842      32842 -89.430524  -6.399901  24.796097 -13.984134  10.963635   \n",
              "32843      32843 -91.678056 -26.233379 -12.630536 -24.762342  10.963635   \n",
              "32844      32844 -91.936219 -43.134087 -12.523820 -24.749230 -22.380985   \n",
              "32845      32845 -96.902050 -44.911147 -12.661026 -24.736117 -22.313266   \n",
              "32846      32846 -96.810934 -61.625450 -12.554311 -24.736117 -22.299722   \n",
              "32847      32847 -96.810934 -69.280477 -92.072567 -91.804891 -86.442744   \n",
              "\n",
              "             B_2        C_1        C_2        A_3  ...        L_4        L_5  \\\n",
              "32838  50.386885  55.471238  46.090832  28.494999  ... -98.731597 -73.534037   \n",
              "32839  50.413115  55.457687  46.025297  27.052803  ... -98.731597 -73.534037   \n",
              "32840  50.413115  55.417034  45.985975  29.053268  ... -98.731597 -73.534037   \n",
              "32841  14.163934  33.261061   9.836818  -8.087152  ... -98.731597 -73.534037   \n",
              "32842 -14.006557  33.247510   7.385805 -17.360626  ... -98.731597 -73.534037   \n",
              "32843 -14.032787  33.220408   7.333377 -50.205474  ... -98.731597 -73.534037   \n",
              "32844 -24.760656  -4.559930 -24.490465 -49.073428  ... -98.731597 -73.534037   \n",
              "32845 -24.878689 -22.257606 -24.857461 -46.049469  ... -98.731597 -73.534037   \n",
              "32846 -24.826230 -22.244054 -24.844354 -49.368070  ... -98.731597 -73.534037   \n",
              "32847 -86.990164 -84.226574 -82.646307 -97.735908  ... -98.731597 -73.534037   \n",
              "\n",
              "             L_6        L_7        L_8        L_9       L_10         A_5  \\\n",
              "32838 -21.192690 -52.795208 -26.772242 -56.768658  -6.658301  100.000000   \n",
              "32839 -21.192690 -56.560183 -41.975023 -56.768658  -9.779625  100.000000   \n",
              "32840 -25.895052 -52.424415 -25.979143 -56.768658 -14.783154  100.000000   \n",
              "32841 -22.207973 -82.786651 -42.005922 -84.405132 -13.089169   75.524812   \n",
              "32842   7.245912 -86.366229 -22.379297 -89.856503  34.514940   58.730163   \n",
              "32843   2.981725 -88.804906 -29.331788 -92.362007  29.244765 -100.000000   \n",
              "32844 -53.350433 -85.824301 -33.498133 -92.362007 -53.948710 -100.000000   \n",
              "32845 -84.289836 -95.807188 -22.049697 -97.297092 -63.234256 -100.000000   \n",
              "32846 -84.289836 -96.434683 -31.685335 -97.297092 -63.861658 -100.000000   \n",
              "32847 -84.289836 -93.411295 -24.722544 -97.297092 -63.500902 -100.000000   \n",
              "\n",
              "              B_5         C_5  \n",
              "32838  100.000000   93.846149  \n",
              "32839  100.000000   93.846149  \n",
              "32840  100.000000   93.846149  \n",
              "32841   78.832038   70.308644  \n",
              "32842   33.333333   53.846154  \n",
              "32843   33.333333   53.846154  \n",
              "32844 -100.000000 -100.000000  \n",
              "32845 -100.000000 -100.000000  \n",
              "32846 -100.000000 -100.000000  \n",
              "32847 -100.000000 -100.000000  \n",
              "\n",
              "[10 rows x 26 columns]"
            ],
            "text/html": [
              "\n",
              "\n",
              "  <div id=\"df-5e35070b-e03d-4d32-a8a4-b7d5de343e9b\">\n",
              "    <div class=\"colab-df-container\">\n",
              "      <div>\n",
              "<style scoped>\n",
              "    .dataframe tbody tr th:only-of-type {\n",
              "        vertical-align: middle;\n",
              "    }\n",
              "\n",
              "    .dataframe tbody tr th {\n",
              "        vertical-align: top;\n",
              "    }\n",
              "\n",
              "    .dataframe thead th {\n",
              "        text-align: right;\n",
              "    }\n",
              "</style>\n",
              "<table border=\"1\" class=\"dataframe\">\n",
              "  <thead>\n",
              "    <tr style=\"text-align: right;\">\n",
              "      <th></th>\n",
              "      <th>Timestamp</th>\n",
              "      <th>L_1</th>\n",
              "      <th>L_2</th>\n",
              "      <th>A_1</th>\n",
              "      <th>A_2</th>\n",
              "      <th>B_1</th>\n",
              "      <th>B_2</th>\n",
              "      <th>C_1</th>\n",
              "      <th>C_2</th>\n",
              "      <th>A_3</th>\n",
              "      <th>...</th>\n",
              "      <th>L_4</th>\n",
              "      <th>L_5</th>\n",
              "      <th>L_6</th>\n",
              "      <th>L_7</th>\n",
              "      <th>L_8</th>\n",
              "      <th>L_9</th>\n",
              "      <th>L_10</th>\n",
              "      <th>A_5</th>\n",
              "      <th>B_5</th>\n",
              "      <th>C_5</th>\n",
              "    </tr>\n",
              "  </thead>\n",
              "  <tbody>\n",
              "    <tr>\n",
              "      <th>32838</th>\n",
              "      <td>32838</td>\n",
              "      <td>-56.674260</td>\n",
              "      <td>15.247918</td>\n",
              "      <td>62.375181</td>\n",
              "      <td>50.409755</td>\n",
              "      <td>44.294711</td>\n",
              "      <td>50.386885</td>\n",
              "      <td>55.471238</td>\n",
              "      <td>46.090832</td>\n",
              "      <td>28.494999</td>\n",
              "      <td>...</td>\n",
              "      <td>-98.731597</td>\n",
              "      <td>-73.534037</td>\n",
              "      <td>-21.192690</td>\n",
              "      <td>-52.795208</td>\n",
              "      <td>-26.772242</td>\n",
              "      <td>-56.768658</td>\n",
              "      <td>-6.658301</td>\n",
              "      <td>100.000000</td>\n",
              "      <td>100.000000</td>\n",
              "      <td>93.846149</td>\n",
              "    </tr>\n",
              "    <tr>\n",
              "      <th>32839</th>\n",
              "      <td>32839</td>\n",
              "      <td>-56.674260</td>\n",
              "      <td>14.241332</td>\n",
              "      <td>62.329446</td>\n",
              "      <td>50.396643</td>\n",
              "      <td>44.254080</td>\n",
              "      <td>50.413115</td>\n",
              "      <td>55.457687</td>\n",
              "      <td>46.025297</td>\n",
              "      <td>27.052803</td>\n",
              "      <td>...</td>\n",
              "      <td>-98.731597</td>\n",
              "      <td>-73.534037</td>\n",
              "      <td>-21.192690</td>\n",
              "      <td>-56.560183</td>\n",
              "      <td>-41.975023</td>\n",
              "      <td>-56.768658</td>\n",
              "      <td>-9.779625</td>\n",
              "      <td>100.000000</td>\n",
              "      <td>100.000000</td>\n",
              "      <td>93.846149</td>\n",
              "    </tr>\n",
              "    <tr>\n",
              "      <th>32840</th>\n",
              "      <td>32840</td>\n",
              "      <td>-56.674260</td>\n",
              "      <td>18.354666</td>\n",
              "      <td>62.344691</td>\n",
              "      <td>50.370419</td>\n",
              "      <td>44.240536</td>\n",
              "      <td>50.413115</td>\n",
              "      <td>55.417034</td>\n",
              "      <td>45.985975</td>\n",
              "      <td>29.053268</td>\n",
              "      <td>...</td>\n",
              "      <td>-98.731597</td>\n",
              "      <td>-73.534037</td>\n",
              "      <td>-25.895052</td>\n",
              "      <td>-52.424415</td>\n",
              "      <td>-25.979143</td>\n",
              "      <td>-56.768658</td>\n",
              "      <td>-14.783154</td>\n",
              "      <td>100.000000</td>\n",
              "      <td>100.000000</td>\n",
              "      <td>93.846149</td>\n",
              "    </tr>\n",
              "    <tr>\n",
              "      <th>32841</th>\n",
              "      <td>32841</td>\n",
              "      <td>-83.842065</td>\n",
              "      <td>-19.920467</td>\n",
              "      <td>25.040018</td>\n",
              "      <td>15.819839</td>\n",
              "      <td>10.909460</td>\n",
              "      <td>14.163934</td>\n",
              "      <td>33.261061</td>\n",
              "      <td>9.836818</td>\n",
              "      <td>-8.087152</td>\n",
              "      <td>...</td>\n",
              "      <td>-98.731597</td>\n",
              "      <td>-73.534037</td>\n",
              "      <td>-22.207973</td>\n",
              "      <td>-82.786651</td>\n",
              "      <td>-42.005922</td>\n",
              "      <td>-84.405132</td>\n",
              "      <td>-13.089169</td>\n",
              "      <td>75.524812</td>\n",
              "      <td>78.832038</td>\n",
              "      <td>70.308644</td>\n",
              "    </tr>\n",
              "    <tr>\n",
              "      <th>32842</th>\n",
              "      <td>32842</td>\n",
              "      <td>-89.430524</td>\n",
              "      <td>-6.399901</td>\n",
              "      <td>24.796097</td>\n",
              "      <td>-13.984134</td>\n",
              "      <td>10.963635</td>\n",
              "      <td>-14.006557</td>\n",
              "      <td>33.247510</td>\n",
              "      <td>7.385805</td>\n",
              "      <td>-17.360626</td>\n",
              "      <td>...</td>\n",
              "      <td>-98.731597</td>\n",
              "      <td>-73.534037</td>\n",
              "      <td>7.245912</td>\n",
              "      <td>-86.366229</td>\n",
              "      <td>-22.379297</td>\n",
              "      <td>-89.856503</td>\n",
              "      <td>34.514940</td>\n",
              "      <td>58.730163</td>\n",
              "      <td>33.333333</td>\n",
              "      <td>53.846154</td>\n",
              "    </tr>\n",
              "    <tr>\n",
              "      <th>32843</th>\n",
              "      <td>32843</td>\n",
              "      <td>-91.678056</td>\n",
              "      <td>-26.233379</td>\n",
              "      <td>-12.630536</td>\n",
              "      <td>-24.762342</td>\n",
              "      <td>10.963635</td>\n",
              "      <td>-14.032787</td>\n",
              "      <td>33.220408</td>\n",
              "      <td>7.333377</td>\n",
              "      <td>-50.205474</td>\n",
              "      <td>...</td>\n",
              "      <td>-98.731597</td>\n",
              "      <td>-73.534037</td>\n",
              "      <td>2.981725</td>\n",
              "      <td>-88.804906</td>\n",
              "      <td>-29.331788</td>\n",
              "      <td>-92.362007</td>\n",
              "      <td>29.244765</td>\n",
              "      <td>-100.000000</td>\n",
              "      <td>33.333333</td>\n",
              "      <td>53.846154</td>\n",
              "    </tr>\n",
              "    <tr>\n",
              "      <th>32844</th>\n",
              "      <td>32844</td>\n",
              "      <td>-91.936219</td>\n",
              "      <td>-43.134087</td>\n",
              "      <td>-12.523820</td>\n",
              "      <td>-24.749230</td>\n",
              "      <td>-22.380985</td>\n",
              "      <td>-24.760656</td>\n",
              "      <td>-4.559930</td>\n",
              "      <td>-24.490465</td>\n",
              "      <td>-49.073428</td>\n",
              "      <td>...</td>\n",
              "      <td>-98.731597</td>\n",
              "      <td>-73.534037</td>\n",
              "      <td>-53.350433</td>\n",
              "      <td>-85.824301</td>\n",
              "      <td>-33.498133</td>\n",
              "      <td>-92.362007</td>\n",
              "      <td>-53.948710</td>\n",
              "      <td>-100.000000</td>\n",
              "      <td>-100.000000</td>\n",
              "      <td>-100.000000</td>\n",
              "    </tr>\n",
              "    <tr>\n",
              "      <th>32845</th>\n",
              "      <td>32845</td>\n",
              "      <td>-96.902050</td>\n",
              "      <td>-44.911147</td>\n",
              "      <td>-12.661026</td>\n",
              "      <td>-24.736117</td>\n",
              "      <td>-22.313266</td>\n",
              "      <td>-24.878689</td>\n",
              "      <td>-22.257606</td>\n",
              "      <td>-24.857461</td>\n",
              "      <td>-46.049469</td>\n",
              "      <td>...</td>\n",
              "      <td>-98.731597</td>\n",
              "      <td>-73.534037</td>\n",
              "      <td>-84.289836</td>\n",
              "      <td>-95.807188</td>\n",
              "      <td>-22.049697</td>\n",
              "      <td>-97.297092</td>\n",
              "      <td>-63.234256</td>\n",
              "      <td>-100.000000</td>\n",
              "      <td>-100.000000</td>\n",
              "      <td>-100.000000</td>\n",
              "    </tr>\n",
              "    <tr>\n",
              "      <th>32846</th>\n",
              "      <td>32846</td>\n",
              "      <td>-96.810934</td>\n",
              "      <td>-61.625450</td>\n",
              "      <td>-12.554311</td>\n",
              "      <td>-24.736117</td>\n",
              "      <td>-22.299722</td>\n",
              "      <td>-24.826230</td>\n",
              "      <td>-22.244054</td>\n",
              "      <td>-24.844354</td>\n",
              "      <td>-49.368070</td>\n",
              "      <td>...</td>\n",
              "      <td>-98.731597</td>\n",
              "      <td>-73.534037</td>\n",
              "      <td>-84.289836</td>\n",
              "      <td>-96.434683</td>\n",
              "      <td>-31.685335</td>\n",
              "      <td>-97.297092</td>\n",
              "      <td>-63.861658</td>\n",
              "      <td>-100.000000</td>\n",
              "      <td>-100.000000</td>\n",
              "      <td>-100.000000</td>\n",
              "    </tr>\n",
              "    <tr>\n",
              "      <th>32847</th>\n",
              "      <td>32847</td>\n",
              "      <td>-96.810934</td>\n",
              "      <td>-69.280477</td>\n",
              "      <td>-92.072567</td>\n",
              "      <td>-91.804891</td>\n",
              "      <td>-86.442744</td>\n",
              "      <td>-86.990164</td>\n",
              "      <td>-84.226574</td>\n",
              "      <td>-82.646307</td>\n",
              "      <td>-97.735908</td>\n",
              "      <td>...</td>\n",
              "      <td>-98.731597</td>\n",
              "      <td>-73.534037</td>\n",
              "      <td>-84.289836</td>\n",
              "      <td>-93.411295</td>\n",
              "      <td>-24.722544</td>\n",
              "      <td>-97.297092</td>\n",
              "      <td>-63.500902</td>\n",
              "      <td>-100.000000</td>\n",
              "      <td>-100.000000</td>\n",
              "      <td>-100.000000</td>\n",
              "    </tr>\n",
              "  </tbody>\n",
              "</table>\n",
              "<p>10 rows × 26 columns</p>\n",
              "</div>\n",
              "      <button class=\"colab-df-convert\" onclick=\"convertToInteractive('df-5e35070b-e03d-4d32-a8a4-b7d5de343e9b')\"\n",
              "              title=\"Convert this dataframe to an interactive table.\"\n",
              "              style=\"display:none;\">\n",
              "\n",
              "  <svg xmlns=\"http://www.w3.org/2000/svg\" height=\"24px\"viewBox=\"0 0 24 24\"\n",
              "       width=\"24px\">\n",
              "    <path d=\"M0 0h24v24H0V0z\" fill=\"none\"/>\n",
              "    <path d=\"M18.56 5.44l.94 2.06.94-2.06 2.06-.94-2.06-.94-.94-2.06-.94 2.06-2.06.94zm-11 1L8.5 8.5l.94-2.06 2.06-.94-2.06-.94L8.5 2.5l-.94 2.06-2.06.94zm10 10l.94 2.06.94-2.06 2.06-.94-2.06-.94-.94-2.06-.94 2.06-2.06.94z\"/><path d=\"M17.41 7.96l-1.37-1.37c-.4-.4-.92-.59-1.43-.59-.52 0-1.04.2-1.43.59L10.3 9.45l-7.72 7.72c-.78.78-.78 2.05 0 2.83L4 21.41c.39.39.9.59 1.41.59.51 0 1.02-.2 1.41-.59l7.78-7.78 2.81-2.81c.8-.78.8-2.07 0-2.86zM5.41 20L4 18.59l7.72-7.72 1.47 1.35L5.41 20z\"/>\n",
              "  </svg>\n",
              "      </button>\n",
              "\n",
              "\n",
              "\n",
              "    <div id=\"df-7ec0b279-f911-4e40-9e5c-a99007690943\">\n",
              "      <button class=\"colab-df-quickchart\" onclick=\"quickchart('df-7ec0b279-f911-4e40-9e5c-a99007690943')\"\n",
              "              title=\"Suggest charts.\"\n",
              "              style=\"display:none;\">\n",
              "\n",
              "<svg xmlns=\"http://www.w3.org/2000/svg\" height=\"24px\"viewBox=\"0 0 24 24\"\n",
              "     width=\"24px\">\n",
              "    <g>\n",
              "        <path d=\"M19 3H5c-1.1 0-2 .9-2 2v14c0 1.1.9 2 2 2h14c1.1 0 2-.9 2-2V5c0-1.1-.9-2-2-2zM9 17H7v-7h2v7zm4 0h-2V7h2v10zm4 0h-2v-4h2v4z\"/>\n",
              "    </g>\n",
              "</svg>\n",
              "      </button>\n",
              "    </div>\n",
              "\n",
              "<style>\n",
              "  .colab-df-quickchart {\n",
              "    background-color: #E8F0FE;\n",
              "    border: none;\n",
              "    border-radius: 50%;\n",
              "    cursor: pointer;\n",
              "    display: none;\n",
              "    fill: #1967D2;\n",
              "    height: 32px;\n",
              "    padding: 0 0 0 0;\n",
              "    width: 32px;\n",
              "  }\n",
              "\n",
              "  .colab-df-quickchart:hover {\n",
              "    background-color: #E2EBFA;\n",
              "    box-shadow: 0px 1px 2px rgba(60, 64, 67, 0.3), 0px 1px 3px 1px rgba(60, 64, 67, 0.15);\n",
              "    fill: #174EA6;\n",
              "  }\n",
              "\n",
              "  [theme=dark] .colab-df-quickchart {\n",
              "    background-color: #3B4455;\n",
              "    fill: #D2E3FC;\n",
              "  }\n",
              "\n",
              "  [theme=dark] .colab-df-quickchart:hover {\n",
              "    background-color: #434B5C;\n",
              "    box-shadow: 0px 1px 3px 1px rgba(0, 0, 0, 0.15);\n",
              "    filter: drop-shadow(0px 1px 2px rgba(0, 0, 0, 0.3));\n",
              "    fill: #FFFFFF;\n",
              "  }\n",
              "</style>\n",
              "\n",
              "    <script>\n",
              "      async function quickchart(key) {\n",
              "        const containerElement = document.querySelector('#' + key);\n",
              "        const charts = await google.colab.kernel.invokeFunction(\n",
              "            'suggestCharts', [key], {});\n",
              "      }\n",
              "    </script>\n",
              "\n",
              "      <script>\n",
              "\n",
              "function displayQuickchartButton(domScope) {\n",
              "  let quickchartButtonEl =\n",
              "    domScope.querySelector('#df-7ec0b279-f911-4e40-9e5c-a99007690943 button.colab-df-quickchart');\n",
              "  quickchartButtonEl.style.display =\n",
              "    google.colab.kernel.accessAllowed ? 'block' : 'none';\n",
              "}\n",
              "\n",
              "        displayQuickchartButton(document);\n",
              "      </script>\n",
              "      <style>\n",
              "    .colab-df-container {\n",
              "      display:flex;\n",
              "      flex-wrap:wrap;\n",
              "      gap: 12px;\n",
              "    }\n",
              "\n",
              "    .colab-df-convert {\n",
              "      background-color: #E8F0FE;\n",
              "      border: none;\n",
              "      border-radius: 50%;\n",
              "      cursor: pointer;\n",
              "      display: none;\n",
              "      fill: #1967D2;\n",
              "      height: 32px;\n",
              "      padding: 0 0 0 0;\n",
              "      width: 32px;\n",
              "    }\n",
              "\n",
              "    .colab-df-convert:hover {\n",
              "      background-color: #E2EBFA;\n",
              "      box-shadow: 0px 1px 2px rgba(60, 64, 67, 0.3), 0px 1px 3px 1px rgba(60, 64, 67, 0.15);\n",
              "      fill: #174EA6;\n",
              "    }\n",
              "\n",
              "    [theme=dark] .colab-df-convert {\n",
              "      background-color: #3B4455;\n",
              "      fill: #D2E3FC;\n",
              "    }\n",
              "\n",
              "    [theme=dark] .colab-df-convert:hover {\n",
              "      background-color: #434B5C;\n",
              "      box-shadow: 0px 1px 3px 1px rgba(0, 0, 0, 0.15);\n",
              "      filter: drop-shadow(0px 1px 2px rgba(0, 0, 0, 0.3));\n",
              "      fill: #FFFFFF;\n",
              "    }\n",
              "  </style>\n",
              "\n",
              "      <script>\n",
              "        const buttonEl =\n",
              "          document.querySelector('#df-5e35070b-e03d-4d32-a8a4-b7d5de343e9b button.colab-df-convert');\n",
              "        buttonEl.style.display =\n",
              "          google.colab.kernel.accessAllowed ? 'block' : 'none';\n",
              "\n",
              "        async function convertToInteractive(key) {\n",
              "          const element = document.querySelector('#df-5e35070b-e03d-4d32-a8a4-b7d5de343e9b');\n",
              "          const dataTable =\n",
              "            await google.colab.kernel.invokeFunction('convertToInteractive',\n",
              "                                                     [key], {});\n",
              "          if (!dataTable) return;\n",
              "\n",
              "          const docLinkHtml = 'Like what you see? Visit the ' +\n",
              "            '<a target=\"_blank\" href=https://colab.research.google.com/notebooks/data_table.ipynb>data table notebook</a>'\n",
              "            + ' to learn more about interactive tables.';\n",
              "          element.innerHTML = '';\n",
              "          dataTable['output_type'] = 'display_data';\n",
              "          await google.colab.output.renderOutput(dataTable, element);\n",
              "          const docLink = document.createElement('div');\n",
              "          docLink.innerHTML = docLinkHtml;\n",
              "          element.appendChild(docLink);\n",
              "        }\n",
              "      </script>\n",
              "    </div>\n",
              "  </div>\n"
            ]
          },
          "metadata": {},
          "execution_count": 63
        }
      ]
    },
    {
      "cell_type": "code",
      "source": [
        "df14.columns"
      ],
      "metadata": {
        "id": "Me-rGxWTgeER"
      },
      "execution_count": null,
      "outputs": []
    },
    {
      "cell_type": "code",
      "source": [
        "plt.plot(df14.Timestamp, df14.C_1)"
      ],
      "metadata": {
        "id": "kH6ayyd8gviN"
      },
      "execution_count": null,
      "outputs": []
    },
    {
      "cell_type": "code",
      "source": [
        "df14.isna().sum()"
      ],
      "metadata": {
        "colab": {
          "base_uri": "https://localhost:8080/"
        },
        "id": "kB91ATdQyeEH",
        "outputId": "9b1dc29c-357b-4e07-e04f-014d0bf1995b"
      },
      "execution_count": null,
      "outputs": [
        {
          "output_type": "execute_result",
          "data": {
            "text/plain": [
              "Timestamp    0\n",
              "L_1          4\n",
              "L_2          4\n",
              "A_1          4\n",
              "A_2          4\n",
              "B_1          4\n",
              "B_2          4\n",
              "C_1          4\n",
              "C_2          4\n",
              "A_3          4\n",
              "A_4          4\n",
              "B_3          4\n",
              "B_4          4\n",
              "C_3          4\n",
              "C_4          4\n",
              "L_3          4\n",
              "L_4          4\n",
              "L_5          4\n",
              "L_6          4\n",
              "L_7          4\n",
              "L_8          4\n",
              "L_9          4\n",
              "L_10         4\n",
              "A_5          4\n",
              "B_5          4\n",
              "C_5          4\n",
              "dtype: int64"
            ]
          },
          "metadata": {},
          "execution_count": 66
        }
      ]
    },
    {
      "cell_type": "code",
      "source": [
        "list(df14.columns)\n",
        "for j in list(df14.columns):\n",
        "  df14[j].fillna(df14[j].mean(), inplace=True)"
      ],
      "metadata": {
        "id": "Pm7h4c-1zUg7"
      },
      "execution_count": null,
      "outputs": []
    },
    {
      "cell_type": "code",
      "source": [
        "df14.isna().sum()"
      ],
      "metadata": {
        "colab": {
          "base_uri": "https://localhost:8080/"
        },
        "id": "nkwBiogt0Man",
        "outputId": "1fa59bf8-6816-419b-d5a3-791fa21a0640"
      },
      "execution_count": null,
      "outputs": [
        {
          "output_type": "execute_result",
          "data": {
            "text/plain": [
              "Timestamp    0\n",
              "L_1          0\n",
              "L_2          0\n",
              "A_1          0\n",
              "A_2          0\n",
              "B_1          0\n",
              "B_2          0\n",
              "C_1          0\n",
              "C_2          0\n",
              "A_3          0\n",
              "A_4          0\n",
              "B_3          0\n",
              "B_4          0\n",
              "C_3          0\n",
              "C_4          0\n",
              "L_3          0\n",
              "L_4          0\n",
              "L_5          0\n",
              "L_6          0\n",
              "L_7          0\n",
              "L_8          0\n",
              "L_9          0\n",
              "L_10         0\n",
              "A_5          0\n",
              "B_5          0\n",
              "C_5          0\n",
              "dtype: int64"
            ]
          },
          "metadata": {},
          "execution_count": 74
        }
      ]
    },
    {
      "cell_type": "code",
      "source": [
        "for i in range(len(df14.index)):\n",
        "  if np.isnan(df14['C_5'][i]):\n",
        "    print(i)"
      ],
      "metadata": {
        "id": "6RUFkJYIy5cj"
      },
      "execution_count": null,
      "outputs": []
    },
    {
      "cell_type": "code",
      "source": [
        "for i in range(len(df14.index)):\n",
        "  if np.isnan(df14['A_5'][i]):\n",
        "    print(i)"
      ],
      "metadata": {
        "id": "b2KxaTp_9Odr"
      },
      "execution_count": null,
      "outputs": []
    },
    {
      "cell_type": "code",
      "source": [
        "ind=[]\n",
        "for i in range(len(df14.index)):\n",
        "  if np.isnan(df14['B_5'][i]):\n",
        "    ind.append(i)"
      ],
      "metadata": {
        "id": "dWvPSl839QZN"
      },
      "execution_count": null,
      "outputs": []
    },
    {
      "cell_type": "code",
      "source": [
        "print(len(df14.index))\n",
        "df14=df14.drop(ind, axis=0)\n",
        "df14.tail(10)"
      ],
      "metadata": {
        "id": "Cn5LfSHQ9jVW"
      },
      "execution_count": null,
      "outputs": []
    },
    {
      "cell_type": "code",
      "source": [
        "df14=df14.reset_index(drop=True)"
      ],
      "metadata": {
        "id": "sPO2I9sqgmOH"
      },
      "execution_count": null,
      "outputs": []
    },
    {
      "cell_type": "code",
      "source": [
        "df14.tail(10)"
      ],
      "metadata": {
        "id": "6PbRexYUgtXk"
      },
      "execution_count": null,
      "outputs": []
    },
    {
      "cell_type": "code",
      "source": [
        "new_ind=int(df14.shape[0]*0.20)\n",
        "df14_new_condition=df14.iloc[:new_ind,:]\n",
        "df14_new_condition.tail(10)"
      ],
      "metadata": {
        "id": "UwbFgeCUhdfI"
      },
      "execution_count": null,
      "outputs": []
    },
    {
      "cell_type": "code",
      "source": [
        "pip install minisom"
      ],
      "metadata": {
        "id": "zMiqDcR-iW0h"
      },
      "execution_count": null,
      "outputs": []
    },
    {
      "cell_type": "code",
      "source": [
        "from minisom import MiniSom\n",
        "\n",
        "# Assume you have a 2D numpy array as your input data\n",
        "# Each row represents a data point with multiple features\n",
        "train_new_condition = np.array(df14_new_condition.iloc[:,1:])\n",
        "\n",
        "# Define the grid size for the SOM\n",
        "grid_size = (50, 50)  # You can adjust the size as needed\n",
        "\n",
        "# Define the number of features in your input data\n",
        "num_features = train_new_condition.shape[1]\n",
        "\n",
        "# Initialize the SOM with the specified grid size and input_len\n",
        "som = MiniSom(grid_size[0], grid_size[1], num_features, sigma=1.0, learning_rate=0.5)\n",
        "\n",
        "# Train the SOM with your input data for a given number of iterations\n",
        "# You can adjust the number of iterations based on your data and desired accuracy\n",
        "som.train(train_new_condition, 100)  # 1000 iterations in this example\n",
        "\n",
        "# At this point, your SOM is trained and ready to be used for analysis or clustering\n",
        "# You can access the SOM weights, cluster assignments, etc. as needed\n"
      ],
      "metadata": {
        "id": "FguyQo0rigNX"
      },
      "execution_count": null,
      "outputs": []
    },
    {
      "cell_type": "code",
      "source": [
        "q_error_training=som.quantization_error(train_new_condition)\n",
        "q_error_training"
      ],
      "metadata": {
        "colab": {
          "base_uri": "https://localhost:8080/"
        },
        "id": "o0T0Uhqgvv9h",
        "outputId": "683283aa-ede5-4de8-c670-3c6e143ec256"
      },
      "execution_count": null,
      "outputs": [
        {
          "output_type": "execute_result",
          "data": {
            "text/plain": [
              "94.2322852710595"
            ]
          },
          "metadata": {},
          "execution_count": 79
        }
      ]
    },
    {
      "cell_type": "code",
      "source": [
        "df14_array=np.array(df14.iloc[:,1:])"
      ],
      "metadata": {
        "id": "0vkgOGNmwiQh"
      },
      "execution_count": null,
      "outputs": []
    },
    {
      "cell_type": "code",
      "source": [
        "## set threshold for anomaly detection\n",
        "## Step 1: calculate q_error for each sample in the training set\n",
        "q_error_training=[]\n",
        "for i in range((len(train_new_condition))):\n",
        "  #print(train_new_condition_scaled[i])\n",
        "  q_error_training.append(som.quantization_error(train_new_condition[i:i+1]))"
      ],
      "metadata": {
        "id": "_COWpWWUwoRn"
      },
      "execution_count": null,
      "outputs": []
    },
    {
      "cell_type": "code",
      "source": [
        "# Step 2: Sort the quantization errors in ascending order\n",
        "sorted_q_error_training = sorted(q_error_training)\n",
        "\n",
        "# Step 3: Choose a value for tau (for example, tau = 0.95)\n",
        "tau = 0.9999\n",
        "\n",
        "# Step 4: Calculate the quantile value for the chosen tau\n",
        "threshold = np.quantile(sorted_q_error_training, tau)\n",
        "\n",
        "# Step 5: The threshold is the quantile value obtained in step 4\n",
        "print(\"Threshold for anomaly detection:\", threshold)"
      ],
      "metadata": {
        "id": "9mmu4GfZwZEJ"
      },
      "execution_count": null,
      "outputs": []
    },
    {
      "cell_type": "code",
      "source": [
        "df14_array.shape[0]"
      ],
      "metadata": {
        "id": "ww84Y8h_pfMa"
      },
      "execution_count": null,
      "outputs": []
    },
    {
      "cell_type": "code",
      "source": [],
      "metadata": {
        "id": "sWUQknw0usQA"
      },
      "execution_count": null,
      "outputs": []
    },
    {
      "cell_type": "code",
      "source": [
        "# def anomaly_detection(n):\n",
        "n=1000\n",
        "q_errors=[]\n",
        "threshold=226.54210676310507\n",
        "for i in range(0,df14_array.shape[0]):\n",
        "  if i<n:\n",
        "    q_errors.append(np.nan)\n",
        "  else:\n",
        "    q_errors.append(som.quantization_error(df14_array[(i-n):i]))\n",
        "for j in range(len(q_errors)):\n",
        "  if q_errors[j]>threshold:\n",
        "    print('anomaly detected at Timestamp', df14.Timestamp[j])\n"
      ],
      "metadata": {
        "id": "xnO4cHctxPRW"
      },
      "execution_count": null,
      "outputs": []
    },
    {
      "cell_type": "code",
      "source": [
        "## now test the whole data set for anomaly detection\n",
        "for i in range(len(df14_array)):\n",
        "  q_error=som.quantization_error(df14_array[i:i+1])\n",
        "  if q_error>threshold:\n",
        "    print('anomaly detected at Timestamp', df14.Timestamp[i])"
      ],
      "metadata": {
        "id": "pmkS6Co6wS-J"
      },
      "execution_count": null,
      "outputs": []
    },
    {
      "cell_type": "code",
      "source": [
        "## calculate quantization error for a range of time stamps,, here we are\n",
        "def q_error_plot(n):\n",
        "  q_errors=[]\n",
        "  for i in range(0,df14_array.shape[0]):\n",
        "    if i<n:\n",
        "      q_errors.append(np.nan)\n",
        "    else:\n",
        "      q_errors.append(som.quantization_error(df14_array[(i-n):i]))\n",
        "  return(plt.plot(df14.Timestamp, q_errors))"
      ],
      "metadata": {
        "id": "PLOmqI9Lleiy"
      },
      "execution_count": null,
      "outputs": []
    },
    {
      "cell_type": "code",
      "source": [
        "som.quantization_error(df14_array)"
      ],
      "metadata": {
        "id": "keo_9mM5jpWH"
      },
      "execution_count": null,
      "outputs": []
    },
    {
      "cell_type": "code",
      "source": [
        "q_error_plot(100)"
      ],
      "metadata": {
        "id": "RFYRHfECq8eM"
      },
      "execution_count": null,
      "outputs": []
    },
    {
      "cell_type": "code",
      "source": [
        "#q_error_plot(500)"
      ],
      "metadata": {
        "id": "Pur-jLHorNCo"
      },
      "execution_count": null,
      "outputs": []
    },
    {
      "cell_type": "code",
      "source": [
        "#q_error_plot(1000)"
      ],
      "metadata": {
        "id": "NTHLIeRfrez4"
      },
      "execution_count": null,
      "outputs": []
    },
    {
      "cell_type": "markdown",
      "source": [],
      "metadata": {
        "id": "lyQ1TeTeif25"
      }
    },
    {
      "cell_type": "code",
      "source": [
        "## Scaling the features value and again plot the same graph\n",
        "from sklearn.preprocessing import MinMaxScaler ## normalizing data between 1 and 0,,, not using Std Scalar\n",
        "mms=MinMaxScaler()\n",
        "df14_scaled_array=mms.fit_transform(df14_array)"
      ],
      "metadata": {
        "id": "wUENmNglrFAG"
      },
      "execution_count": null,
      "outputs": []
    },
    {
      "cell_type": "code",
      "source": [
        "df14_scaled_array[20000]"
      ],
      "metadata": {
        "id": "bo_AGY1aueni"
      },
      "execution_count": null,
      "outputs": []
    },
    {
      "cell_type": "code",
      "source": [
        "##run the SOM with scaled data\n",
        "from minisom import MiniSom\n",
        "\n",
        "# Assume you have a 2D numpy array as your input data\n",
        "# Each row represents a data point with multiple features\n",
        "train_new_condition_scaled = df14_scaled_array[:new_ind]\n",
        "\n",
        "# Define the grid size for the SOM\n",
        "grid_size = (50, 50)  # You can adjust the size as needed\n",
        "\n",
        "# Define the number of features in your input data\n",
        "num_features = train_new_condition_scaled.shape[1]\n",
        "\n",
        "# Initialize the SOM with the specified grid size and input_len\n",
        "som_scaled = MiniSom(grid_size[0], grid_size[1], num_features)\n",
        "\n",
        "# Train the SOM with your input data for a given number of iterations\n",
        "# You can adjust the number of iterations based on your data and desired accuracy\n",
        "som_scaled.train(train_new_condition_scaled, 100)  # 1000 iterations in this example\n",
        "\n",
        "# At this point, your SOM is trained and ready to be used for analysis or clustering\n",
        "# You can access the SOM weights, cluster assignments, etc. as needed\n"
      ],
      "metadata": {
        "id": "nwCYx3RRvxTS"
      },
      "execution_count": null,
      "outputs": []
    },
    {
      "cell_type": "code",
      "source": [
        "q_error_training=som_scaled.quantization_error(train_new_condition_scaled)\n",
        "q_error_training"
      ],
      "metadata": {
        "id": "6KrtXtef0ZBu"
      },
      "execution_count": null,
      "outputs": []
    },
    {
      "cell_type": "code",
      "source": [
        "len(train_new_condition_scaled)"
      ],
      "metadata": {
        "id": "L0y2DWCXpQ9x"
      },
      "execution_count": null,
      "outputs": []
    },
    {
      "cell_type": "code",
      "source": [
        "train_new_condition_scaled[0]"
      ],
      "metadata": {
        "id": "40LWxq1DpT08"
      },
      "execution_count": null,
      "outputs": []
    },
    {
      "cell_type": "code",
      "source": [
        "## set threshold for anomaly detection\n",
        "## Step 1: calculate q_error for each sample in the training set\n",
        "q_error_training=[]\n",
        "for i in range((len(train_new_condition_scaled))):\n",
        "  #print(train_new_condition_scaled[i])\n",
        "  q_error_training.append(som_scaled.quantization_error(train_new_condition_scaled[i:i+1]))"
      ],
      "metadata": {
        "id": "Fr_LcrOKVe7a"
      },
      "execution_count": null,
      "outputs": []
    },
    {
      "cell_type": "code",
      "source": [
        "len(q_error_training)"
      ],
      "metadata": {
        "id": "Uzp05jQHq2VD"
      },
      "execution_count": null,
      "outputs": []
    },
    {
      "cell_type": "code",
      "source": [
        "# Step 2: Sort the quantization errors in ascending order\n",
        "sorted_q_error_training = sorted(q_error_training)\n",
        "\n",
        "# Step 3: Choose a value for tau (for example, tau = 0.95)\n",
        "tau = 0.9999\n",
        "\n",
        "# Step 4: Calculate the quantile value for the chosen tau\n",
        "threshold = np.quantile(sorted_q_error_training, tau)\n",
        "\n",
        "# Step 5: The threshold is the quantile value obtained in step 4\n",
        "print(\"Threshold for anomaly detection:\", threshold)"
      ],
      "metadata": {
        "id": "mf7O8DA-q-dp"
      },
      "execution_count": null,
      "outputs": []
    },
    {
      "cell_type": "code",
      "source": [
        "## now test the whole data set for anomaly detection\n",
        "for i in range(len(df14_scaled_array)):\n",
        "  q_error=som_scaled.quantization_error(df14_scaled_array[i:i+1])\n",
        "  if q_error>threshold:\n",
        "    print('anomaly detected at Timestamp', df14.Timestamp[i])"
      ],
      "metadata": {
        "id": "c_co04QTsAEH"
      },
      "execution_count": null,
      "outputs": []
    },
    {
      "cell_type": "code",
      "source": [
        "def q_error_plot_for_scaled(n):\n",
        "  q_errors=[]\n",
        "  for i in range(0,df14_scaled_array.shape[0]):\n",
        "    if i<n:\n",
        "      q_errors.append(np.nan)\n",
        "    else:\n",
        "      q_errors.append(som_scaled.quantization_error(df14_scaled_array[(i-n):i]))\n",
        "  return(plt.bar(df14.Timestamp, q_errors))"
      ],
      "metadata": {
        "id": "SLV5MWqatmLG"
      },
      "execution_count": null,
      "outputs": []
    },
    {
      "cell_type": "code",
      "source": [
        "q_error_plot_for_scaled(1)"
      ],
      "metadata": {
        "id": "miNTk-tSt5eQ"
      },
      "execution_count": null,
      "outputs": []
    },
    {
      "cell_type": "code",
      "source": [],
      "metadata": {
        "id": "wb2PnYI4vn8H"
      },
      "execution_count": null,
      "outputs": []
    },
    {
      "cell_type": "code",
      "source": [
        "cor1=df14[['A_3','B_3','C_3']]"
      ],
      "metadata": {
        "id": "3liX1gvWid7X"
      },
      "execution_count": null,
      "outputs": []
    },
    {
      "cell_type": "code",
      "source": [
        "cor_matrix=cor1.corr()\n",
        "cor_matrix"
      ],
      "metadata": {
        "id": "4xn3GXASjEH0"
      },
      "execution_count": null,
      "outputs": []
    },
    {
      "cell_type": "code",
      "source": [
        "cor2=df14[['A_1','A_2','A_3','A_4','A_5']]\n",
        "cor_matrix2=cor2.corr()\n",
        "cor_matrix2"
      ],
      "metadata": {
        "id": "GFjE7XFGjRsy"
      },
      "execution_count": null,
      "outputs": []
    },
    {
      "cell_type": "code",
      "source": [
        "df14_features=df14.iloc[:,1:]\n",
        "df14_features.head(10)"
      ],
      "metadata": {
        "id": "3ztaIxFlw38s"
      },
      "execution_count": null,
      "outputs": []
    },
    {
      "cell_type": "code",
      "source": [
        "from sklearn.preprocessing import StandardScaler\n",
        "ss=StandardScaler()\n",
        "scaled_df14_features = ss.fit_transform(df14_features)"
      ],
      "metadata": {
        "id": "UFaAtv0OjuoJ"
      },
      "execution_count": null,
      "outputs": []
    },
    {
      "cell_type": "code",
      "source": [
        "from sklearn.decomposition import PCA\n",
        "pca=PCA(n_components=10)\n",
        "df14_pca_features = pca.fit_transform(scaled_df14_features)\n",
        "\n",
        "# Calculate the explained variance ratio\n",
        "explained_variance_ratio = pca.explained_variance_ratio_\n",
        "\n",
        "# Calculate the total variance retained\n",
        "total_variance_retained = sum(explained_variance_ratio)\n",
        "\n",
        "# Print the explained variance ratio and total variance retained\n",
        "print(\"Explained Variance Ratio:\", explained_variance_ratio)\n",
        "print(\"Total Variance Retained:\", total_variance_retained)"
      ],
      "metadata": {
        "id": "mhZhiRtkxZmR"
      },
      "execution_count": null,
      "outputs": []
    },
    {
      "cell_type": "code",
      "source": [
        "# Create a new DataFrame for the principal components\n",
        "df14_pca = pd.DataFrame(data=df14_pca_features, columns=[f'PC{i}' for i in range(1, 10 + 1)])\n",
        "df14_pca"
      ],
      "metadata": {
        "id": "DB1SaR9a_CjE"
      },
      "execution_count": null,
      "outputs": []
    },
    {
      "cell_type": "markdown",
      "source": [
        "#start"
      ],
      "metadata": {
        "id": "qSwiOtusAcIH"
      }
    },
    {
      "cell_type": "code",
      "source": [
        "## import datasets ...file handling\n",
        "import pandas as pd\n",
        "import numpy as np\n",
        "import matplotlib.pyplot as plt\n",
        "import os"
      ],
      "metadata": {
        "id": "x7JUR0AL_iAA"
      },
      "execution_count": null,
      "outputs": []
    },
    {
      "cell_type": "code",
      "source": [
        "set_dir = '/content/drive/MyDrive/BDS/BDS_practice_data/capstone'\n",
        "os.chdir(set_dir)\n",
        "datasets_dir=os.path.abspath('./datasets')\n",
        "all_datasets=os.listdir(datasets_dir)"
      ],
      "metadata": {
        "id": "zahpiOd2BBe-"
      },
      "execution_count": null,
      "outputs": []
    },
    {
      "cell_type": "code",
      "source": [
        "all_datasets.sort()"
      ],
      "metadata": {
        "id": "7Q2RcCUWTNrK"
      },
      "execution_count": null,
      "outputs": []
    },
    {
      "cell_type": "code",
      "source": [
        "all_datasets"
      ],
      "metadata": {
        "colab": {
          "base_uri": "https://localhost:8080/"
        },
        "id": "aC1B0xc1XNC-",
        "outputId": "67c62ab2-af48-4cbd-c869-2703c89f7450"
      },
      "execution_count": null,
      "outputs": [
        {
          "output_type": "execute_result",
          "data": {
            "text/plain": [
              "['C11.csv',\n",
              " 'C13-1.csv',\n",
              " 'C13-2.csv',\n",
              " 'C14.csv',\n",
              " 'C15.csv',\n",
              " 'C16.csv',\n",
              " 'C7-1.csv',\n",
              " 'C7-2.csv',\n",
              " 'C8.csv',\n",
              " 'C9.csv']"
            ]
          },
          "metadata": {},
          "execution_count": 4
        }
      ]
    },
    {
      "cell_type": "code",
      "source": [
        "all_datasets_path=[]\n",
        "for i in all_datasets:\n",
        "  all_datasets_path.append(os.path.join(datasets_dir,i))"
      ],
      "metadata": {
        "id": "6gCJsbgWKRU4"
      },
      "execution_count": null,
      "outputs": []
    },
    {
      "cell_type": "code",
      "source": [
        "all_datasets_path[0]"
      ],
      "metadata": {
        "colab": {
          "base_uri": "https://localhost:8080/",
          "height": 35
        },
        "id": "1pEEQqy9OdeN",
        "outputId": "0da504e7-d0a7-430f-dcc9-dba9ffd23152"
      },
      "execution_count": null,
      "outputs": [
        {
          "output_type": "execute_result",
          "data": {
            "text/plain": [
              "'/content/drive/MyDrive/BDS/BDS_practice_data/capstone/datasets/C11.csv'"
            ],
            "application/vnd.google.colaboratory.intrinsic+json": {
              "type": "string"
            }
          },
          "metadata": {},
          "execution_count": 6
        }
      ]
    },
    {
      "cell_type": "code",
      "source": [
        "datasets_df=[pd.read_csv(f) for f in all_datasets_path]\n",
        "datasets_df[0].head(10)"
      ],
      "metadata": {
        "colab": {
          "base_uri": "https://localhost:8080/",
          "height": 456
        },
        "id": "h4URpgSvO0ra",
        "outputId": "8ea41835-c27b-4af6-e08b-d0fafe6d70e9"
      },
      "execution_count": null,
      "outputs": [
        {
          "output_type": "execute_result",
          "data": {
            "text/plain": [
              "   Timestamp        L_1        L_2        A_1        A_2        B_1  \\\n",
              "0          0 -20.470767 -49.583696 -49.737023 -60.125877 -67.684702   \n",
              "1          1  -4.874715 -37.094569 -25.009528 -35.579886 -33.459741   \n",
              "2          2  25.132878 -40.673543 -25.040018 -35.461876 -33.527460   \n",
              "3          3 -90.508732 -76.363862 -25.238204 -35.592998 -33.459741   \n",
              "4          4 -95.641610 -62.582329 -24.963793 -35.488101 -33.459741   \n",
              "5          5 -95.641610 -52.914129 -24.963793 -35.474989 -33.419110   \n",
              "6          6 -99.422931 -79.731577 -24.979038 -35.658559 -33.513916   \n",
              "7          7 -99.422931 -79.731577 -25.161979 -35.501213 -33.378479   \n",
              "8          8 -96.977980 -54.405368 -25.100999 -35.474989 -33.513916   \n",
              "9          9 -96.977980 -54.405368 -25.024773 -35.684783 -33.405566   \n",
              "\n",
              "         B_2        C_1        C_2        A_3  ...        L_4        L_5  \\\n",
              "0 -67.213115 -75.635206 -75.398126 -45.568737  ... -98.610796 -77.922564   \n",
              "1 -35.514754 -33.369469 -35.644538 -51.259983  ... -98.610796 -77.922564   \n",
              "2 -35.659016 -33.274612 -35.644538 -56.656587  ... -98.610796 -77.922564   \n",
              "3 -35.593443 -33.396572 -35.552789 -52.903776  ... -98.610796 -77.922564   \n",
              "4 -35.449180 -33.369469 -35.552789 -56.377452  ... -98.610796 -77.922564   \n",
              "5 -35.580328 -33.342367 -35.592110 -53.973792  ... -98.610796 -77.922564   \n",
              "6 -35.501639 -33.383021 -35.618324 -54.609599  ... -98.610796 -77.922564   \n",
              "7 -35.475410 -33.355918 -56.982764 -54.547569  ... -98.610796 -77.922564   \n",
              "8 -35.672131 -33.396572 -57.113834 -52.035357  ... -98.610796 -77.922564   \n",
              "9 -35.436066 -33.369469 -57.022085 -56.082810  ... -98.610796 -77.922564   \n",
              "\n",
              "         L_6        L_7        L_8        L_9       L_10    A_5    B_5    C_5  \n",
              "0 -65.288020 -21.577296  -5.229818 -20.021259 -53.399733 -100.0 -100.0 -100.0  \n",
              "1 -59.527626  -8.114661  -7.114716  -4.532685 -52.568426 -100.0 -100.0 -100.0  \n",
              "2 -67.083467  22.033657 -17.198404  25.123377 -47.439417 -100.0 -100.0 -100.0  \n",
              "3 -98.546543 -85.325157 -41.011974 -91.739428 -93.192691 -100.0 -100.0 -100.0  \n",
              "4 -82.718820 -92.213349 -24.248745 -96.082302 -70.919928 -100.0 -100.0 -100.0  \n",
              "5 -82.718820 -92.213349 -24.336295 -96.082302 -67.704494 -100.0 -100.0 -100.0  \n",
              "6 -80.784439 -93.639475 -26.154242 -97.555235 -64.818446 -100.0 -100.0 -100.0  \n",
              "7 -80.784439 -93.625214 -25.438393 -97.555235 -61.101090 -100.0 -100.0 -100.0  \n",
              "8 -80.784439 -93.297205 -23.641045 -97.281907 -68.661281 -100.0 -100.0 -100.0  \n",
              "9 -80.784439 -93.568169 -25.330243 -97.281907 -64.128304 -100.0 -100.0 -100.0  \n",
              "\n",
              "[10 rows x 26 columns]"
            ],
            "text/html": [
              "\n",
              "\n",
              "  <div id=\"df-4bea160e-0c6a-436b-a91f-bb4e6da5459d\">\n",
              "    <div class=\"colab-df-container\">\n",
              "      <div>\n",
              "<style scoped>\n",
              "    .dataframe tbody tr th:only-of-type {\n",
              "        vertical-align: middle;\n",
              "    }\n",
              "\n",
              "    .dataframe tbody tr th {\n",
              "        vertical-align: top;\n",
              "    }\n",
              "\n",
              "    .dataframe thead th {\n",
              "        text-align: right;\n",
              "    }\n",
              "</style>\n",
              "<table border=\"1\" class=\"dataframe\">\n",
              "  <thead>\n",
              "    <tr style=\"text-align: right;\">\n",
              "      <th></th>\n",
              "      <th>Timestamp</th>\n",
              "      <th>L_1</th>\n",
              "      <th>L_2</th>\n",
              "      <th>A_1</th>\n",
              "      <th>A_2</th>\n",
              "      <th>B_1</th>\n",
              "      <th>B_2</th>\n",
              "      <th>C_1</th>\n",
              "      <th>C_2</th>\n",
              "      <th>A_3</th>\n",
              "      <th>...</th>\n",
              "      <th>L_4</th>\n",
              "      <th>L_5</th>\n",
              "      <th>L_6</th>\n",
              "      <th>L_7</th>\n",
              "      <th>L_8</th>\n",
              "      <th>L_9</th>\n",
              "      <th>L_10</th>\n",
              "      <th>A_5</th>\n",
              "      <th>B_5</th>\n",
              "      <th>C_5</th>\n",
              "    </tr>\n",
              "  </thead>\n",
              "  <tbody>\n",
              "    <tr>\n",
              "      <th>0</th>\n",
              "      <td>0</td>\n",
              "      <td>-20.470767</td>\n",
              "      <td>-49.583696</td>\n",
              "      <td>-49.737023</td>\n",
              "      <td>-60.125877</td>\n",
              "      <td>-67.684702</td>\n",
              "      <td>-67.213115</td>\n",
              "      <td>-75.635206</td>\n",
              "      <td>-75.398126</td>\n",
              "      <td>-45.568737</td>\n",
              "      <td>...</td>\n",
              "      <td>-98.610796</td>\n",
              "      <td>-77.922564</td>\n",
              "      <td>-65.288020</td>\n",
              "      <td>-21.577296</td>\n",
              "      <td>-5.229818</td>\n",
              "      <td>-20.021259</td>\n",
              "      <td>-53.399733</td>\n",
              "      <td>-100.0</td>\n",
              "      <td>-100.0</td>\n",
              "      <td>-100.0</td>\n",
              "    </tr>\n",
              "    <tr>\n",
              "      <th>1</th>\n",
              "      <td>1</td>\n",
              "      <td>-4.874715</td>\n",
              "      <td>-37.094569</td>\n",
              "      <td>-25.009528</td>\n",
              "      <td>-35.579886</td>\n",
              "      <td>-33.459741</td>\n",
              "      <td>-35.514754</td>\n",
              "      <td>-33.369469</td>\n",
              "      <td>-35.644538</td>\n",
              "      <td>-51.259983</td>\n",
              "      <td>...</td>\n",
              "      <td>-98.610796</td>\n",
              "      <td>-77.922564</td>\n",
              "      <td>-59.527626</td>\n",
              "      <td>-8.114661</td>\n",
              "      <td>-7.114716</td>\n",
              "      <td>-4.532685</td>\n",
              "      <td>-52.568426</td>\n",
              "      <td>-100.0</td>\n",
              "      <td>-100.0</td>\n",
              "      <td>-100.0</td>\n",
              "    </tr>\n",
              "    <tr>\n",
              "      <th>2</th>\n",
              "      <td>2</td>\n",
              "      <td>25.132878</td>\n",
              "      <td>-40.673543</td>\n",
              "      <td>-25.040018</td>\n",
              "      <td>-35.461876</td>\n",
              "      <td>-33.527460</td>\n",
              "      <td>-35.659016</td>\n",
              "      <td>-33.274612</td>\n",
              "      <td>-35.644538</td>\n",
              "      <td>-56.656587</td>\n",
              "      <td>...</td>\n",
              "      <td>-98.610796</td>\n",
              "      <td>-77.922564</td>\n",
              "      <td>-67.083467</td>\n",
              "      <td>22.033657</td>\n",
              "      <td>-17.198404</td>\n",
              "      <td>25.123377</td>\n",
              "      <td>-47.439417</td>\n",
              "      <td>-100.0</td>\n",
              "      <td>-100.0</td>\n",
              "      <td>-100.0</td>\n",
              "    </tr>\n",
              "    <tr>\n",
              "      <th>3</th>\n",
              "      <td>3</td>\n",
              "      <td>-90.508732</td>\n",
              "      <td>-76.363862</td>\n",
              "      <td>-25.238204</td>\n",
              "      <td>-35.592998</td>\n",
              "      <td>-33.459741</td>\n",
              "      <td>-35.593443</td>\n",
              "      <td>-33.396572</td>\n",
              "      <td>-35.552789</td>\n",
              "      <td>-52.903776</td>\n",
              "      <td>...</td>\n",
              "      <td>-98.610796</td>\n",
              "      <td>-77.922564</td>\n",
              "      <td>-98.546543</td>\n",
              "      <td>-85.325157</td>\n",
              "      <td>-41.011974</td>\n",
              "      <td>-91.739428</td>\n",
              "      <td>-93.192691</td>\n",
              "      <td>-100.0</td>\n",
              "      <td>-100.0</td>\n",
              "      <td>-100.0</td>\n",
              "    </tr>\n",
              "    <tr>\n",
              "      <th>4</th>\n",
              "      <td>4</td>\n",
              "      <td>-95.641610</td>\n",
              "      <td>-62.582329</td>\n",
              "      <td>-24.963793</td>\n",
              "      <td>-35.488101</td>\n",
              "      <td>-33.459741</td>\n",
              "      <td>-35.449180</td>\n",
              "      <td>-33.369469</td>\n",
              "      <td>-35.552789</td>\n",
              "      <td>-56.377452</td>\n",
              "      <td>...</td>\n",
              "      <td>-98.610796</td>\n",
              "      <td>-77.922564</td>\n",
              "      <td>-82.718820</td>\n",
              "      <td>-92.213349</td>\n",
              "      <td>-24.248745</td>\n",
              "      <td>-96.082302</td>\n",
              "      <td>-70.919928</td>\n",
              "      <td>-100.0</td>\n",
              "      <td>-100.0</td>\n",
              "      <td>-100.0</td>\n",
              "    </tr>\n",
              "    <tr>\n",
              "      <th>5</th>\n",
              "      <td>5</td>\n",
              "      <td>-95.641610</td>\n",
              "      <td>-52.914129</td>\n",
              "      <td>-24.963793</td>\n",
              "      <td>-35.474989</td>\n",
              "      <td>-33.419110</td>\n",
              "      <td>-35.580328</td>\n",
              "      <td>-33.342367</td>\n",
              "      <td>-35.592110</td>\n",
              "      <td>-53.973792</td>\n",
              "      <td>...</td>\n",
              "      <td>-98.610796</td>\n",
              "      <td>-77.922564</td>\n",
              "      <td>-82.718820</td>\n",
              "      <td>-92.213349</td>\n",
              "      <td>-24.336295</td>\n",
              "      <td>-96.082302</td>\n",
              "      <td>-67.704494</td>\n",
              "      <td>-100.0</td>\n",
              "      <td>-100.0</td>\n",
              "      <td>-100.0</td>\n",
              "    </tr>\n",
              "    <tr>\n",
              "      <th>6</th>\n",
              "      <td>6</td>\n",
              "      <td>-99.422931</td>\n",
              "      <td>-79.731577</td>\n",
              "      <td>-24.979038</td>\n",
              "      <td>-35.658559</td>\n",
              "      <td>-33.513916</td>\n",
              "      <td>-35.501639</td>\n",
              "      <td>-33.383021</td>\n",
              "      <td>-35.618324</td>\n",
              "      <td>-54.609599</td>\n",
              "      <td>...</td>\n",
              "      <td>-98.610796</td>\n",
              "      <td>-77.922564</td>\n",
              "      <td>-80.784439</td>\n",
              "      <td>-93.639475</td>\n",
              "      <td>-26.154242</td>\n",
              "      <td>-97.555235</td>\n",
              "      <td>-64.818446</td>\n",
              "      <td>-100.0</td>\n",
              "      <td>-100.0</td>\n",
              "      <td>-100.0</td>\n",
              "    </tr>\n",
              "    <tr>\n",
              "      <th>7</th>\n",
              "      <td>7</td>\n",
              "      <td>-99.422931</td>\n",
              "      <td>-79.731577</td>\n",
              "      <td>-25.161979</td>\n",
              "      <td>-35.501213</td>\n",
              "      <td>-33.378479</td>\n",
              "      <td>-35.475410</td>\n",
              "      <td>-33.355918</td>\n",
              "      <td>-56.982764</td>\n",
              "      <td>-54.547569</td>\n",
              "      <td>...</td>\n",
              "      <td>-98.610796</td>\n",
              "      <td>-77.922564</td>\n",
              "      <td>-80.784439</td>\n",
              "      <td>-93.625214</td>\n",
              "      <td>-25.438393</td>\n",
              "      <td>-97.555235</td>\n",
              "      <td>-61.101090</td>\n",
              "      <td>-100.0</td>\n",
              "      <td>-100.0</td>\n",
              "      <td>-100.0</td>\n",
              "    </tr>\n",
              "    <tr>\n",
              "      <th>8</th>\n",
              "      <td>8</td>\n",
              "      <td>-96.977980</td>\n",
              "      <td>-54.405368</td>\n",
              "      <td>-25.100999</td>\n",
              "      <td>-35.474989</td>\n",
              "      <td>-33.513916</td>\n",
              "      <td>-35.672131</td>\n",
              "      <td>-33.396572</td>\n",
              "      <td>-57.113834</td>\n",
              "      <td>-52.035357</td>\n",
              "      <td>...</td>\n",
              "      <td>-98.610796</td>\n",
              "      <td>-77.922564</td>\n",
              "      <td>-80.784439</td>\n",
              "      <td>-93.297205</td>\n",
              "      <td>-23.641045</td>\n",
              "      <td>-97.281907</td>\n",
              "      <td>-68.661281</td>\n",
              "      <td>-100.0</td>\n",
              "      <td>-100.0</td>\n",
              "      <td>-100.0</td>\n",
              "    </tr>\n",
              "    <tr>\n",
              "      <th>9</th>\n",
              "      <td>9</td>\n",
              "      <td>-96.977980</td>\n",
              "      <td>-54.405368</td>\n",
              "      <td>-25.024773</td>\n",
              "      <td>-35.684783</td>\n",
              "      <td>-33.405566</td>\n",
              "      <td>-35.436066</td>\n",
              "      <td>-33.369469</td>\n",
              "      <td>-57.022085</td>\n",
              "      <td>-56.082810</td>\n",
              "      <td>...</td>\n",
              "      <td>-98.610796</td>\n",
              "      <td>-77.922564</td>\n",
              "      <td>-80.784439</td>\n",
              "      <td>-93.568169</td>\n",
              "      <td>-25.330243</td>\n",
              "      <td>-97.281907</td>\n",
              "      <td>-64.128304</td>\n",
              "      <td>-100.0</td>\n",
              "      <td>-100.0</td>\n",
              "      <td>-100.0</td>\n",
              "    </tr>\n",
              "  </tbody>\n",
              "</table>\n",
              "<p>10 rows × 26 columns</p>\n",
              "</div>\n",
              "      <button class=\"colab-df-convert\" onclick=\"convertToInteractive('df-4bea160e-0c6a-436b-a91f-bb4e6da5459d')\"\n",
              "              title=\"Convert this dataframe to an interactive table.\"\n",
              "              style=\"display:none;\">\n",
              "\n",
              "  <svg xmlns=\"http://www.w3.org/2000/svg\" height=\"24px\"viewBox=\"0 0 24 24\"\n",
              "       width=\"24px\">\n",
              "    <path d=\"M0 0h24v24H0V0z\" fill=\"none\"/>\n",
              "    <path d=\"M18.56 5.44l.94 2.06.94-2.06 2.06-.94-2.06-.94-.94-2.06-.94 2.06-2.06.94zm-11 1L8.5 8.5l.94-2.06 2.06-.94-2.06-.94L8.5 2.5l-.94 2.06-2.06.94zm10 10l.94 2.06.94-2.06 2.06-.94-2.06-.94-.94-2.06-.94 2.06-2.06.94z\"/><path d=\"M17.41 7.96l-1.37-1.37c-.4-.4-.92-.59-1.43-.59-.52 0-1.04.2-1.43.59L10.3 9.45l-7.72 7.72c-.78.78-.78 2.05 0 2.83L4 21.41c.39.39.9.59 1.41.59.51 0 1.02-.2 1.41-.59l7.78-7.78 2.81-2.81c.8-.78.8-2.07 0-2.86zM5.41 20L4 18.59l7.72-7.72 1.47 1.35L5.41 20z\"/>\n",
              "  </svg>\n",
              "      </button>\n",
              "\n",
              "\n",
              "\n",
              "    <div id=\"df-3b9e67cf-acdc-412a-9a49-c1804ce68e4d\">\n",
              "      <button class=\"colab-df-quickchart\" onclick=\"quickchart('df-3b9e67cf-acdc-412a-9a49-c1804ce68e4d')\"\n",
              "              title=\"Suggest charts.\"\n",
              "              style=\"display:none;\">\n",
              "\n",
              "<svg xmlns=\"http://www.w3.org/2000/svg\" height=\"24px\"viewBox=\"0 0 24 24\"\n",
              "     width=\"24px\">\n",
              "    <g>\n",
              "        <path d=\"M19 3H5c-1.1 0-2 .9-2 2v14c0 1.1.9 2 2 2h14c1.1 0 2-.9 2-2V5c0-1.1-.9-2-2-2zM9 17H7v-7h2v7zm4 0h-2V7h2v10zm4 0h-2v-4h2v4z\"/>\n",
              "    </g>\n",
              "</svg>\n",
              "      </button>\n",
              "    </div>\n",
              "\n",
              "<style>\n",
              "  .colab-df-quickchart {\n",
              "    background-color: #E8F0FE;\n",
              "    border: none;\n",
              "    border-radius: 50%;\n",
              "    cursor: pointer;\n",
              "    display: none;\n",
              "    fill: #1967D2;\n",
              "    height: 32px;\n",
              "    padding: 0 0 0 0;\n",
              "    width: 32px;\n",
              "  }\n",
              "\n",
              "  .colab-df-quickchart:hover {\n",
              "    background-color: #E2EBFA;\n",
              "    box-shadow: 0px 1px 2px rgba(60, 64, 67, 0.3), 0px 1px 3px 1px rgba(60, 64, 67, 0.15);\n",
              "    fill: #174EA6;\n",
              "  }\n",
              "\n",
              "  [theme=dark] .colab-df-quickchart {\n",
              "    background-color: #3B4455;\n",
              "    fill: #D2E3FC;\n",
              "  }\n",
              "\n",
              "  [theme=dark] .colab-df-quickchart:hover {\n",
              "    background-color: #434B5C;\n",
              "    box-shadow: 0px 1px 3px 1px rgba(0, 0, 0, 0.15);\n",
              "    filter: drop-shadow(0px 1px 2px rgba(0, 0, 0, 0.3));\n",
              "    fill: #FFFFFF;\n",
              "  }\n",
              "</style>\n",
              "\n",
              "    <script>\n",
              "      async function quickchart(key) {\n",
              "        const containerElement = document.querySelector('#' + key);\n",
              "        const charts = await google.colab.kernel.invokeFunction(\n",
              "            'suggestCharts', [key], {});\n",
              "      }\n",
              "    </script>\n",
              "\n",
              "      <script>\n",
              "\n",
              "function displayQuickchartButton(domScope) {\n",
              "  let quickchartButtonEl =\n",
              "    domScope.querySelector('#df-3b9e67cf-acdc-412a-9a49-c1804ce68e4d button.colab-df-quickchart');\n",
              "  quickchartButtonEl.style.display =\n",
              "    google.colab.kernel.accessAllowed ? 'block' : 'none';\n",
              "}\n",
              "\n",
              "        displayQuickchartButton(document);\n",
              "      </script>\n",
              "      <style>\n",
              "    .colab-df-container {\n",
              "      display:flex;\n",
              "      flex-wrap:wrap;\n",
              "      gap: 12px;\n",
              "    }\n",
              "\n",
              "    .colab-df-convert {\n",
              "      background-color: #E8F0FE;\n",
              "      border: none;\n",
              "      border-radius: 50%;\n",
              "      cursor: pointer;\n",
              "      display: none;\n",
              "      fill: #1967D2;\n",
              "      height: 32px;\n",
              "      padding: 0 0 0 0;\n",
              "      width: 32px;\n",
              "    }\n",
              "\n",
              "    .colab-df-convert:hover {\n",
              "      background-color: #E2EBFA;\n",
              "      box-shadow: 0px 1px 2px rgba(60, 64, 67, 0.3), 0px 1px 3px 1px rgba(60, 64, 67, 0.15);\n",
              "      fill: #174EA6;\n",
              "    }\n",
              "\n",
              "    [theme=dark] .colab-df-convert {\n",
              "      background-color: #3B4455;\n",
              "      fill: #D2E3FC;\n",
              "    }\n",
              "\n",
              "    [theme=dark] .colab-df-convert:hover {\n",
              "      background-color: #434B5C;\n",
              "      box-shadow: 0px 1px 3px 1px rgba(0, 0, 0, 0.15);\n",
              "      filter: drop-shadow(0px 1px 2px rgba(0, 0, 0, 0.3));\n",
              "      fill: #FFFFFF;\n",
              "    }\n",
              "  </style>\n",
              "\n",
              "      <script>\n",
              "        const buttonEl =\n",
              "          document.querySelector('#df-4bea160e-0c6a-436b-a91f-bb4e6da5459d button.colab-df-convert');\n",
              "        buttonEl.style.display =\n",
              "          google.colab.kernel.accessAllowed ? 'block' : 'none';\n",
              "\n",
              "        async function convertToInteractive(key) {\n",
              "          const element = document.querySelector('#df-4bea160e-0c6a-436b-a91f-bb4e6da5459d');\n",
              "          const dataTable =\n",
              "            await google.colab.kernel.invokeFunction('convertToInteractive',\n",
              "                                                     [key], {});\n",
              "          if (!dataTable) return;\n",
              "\n",
              "          const docLinkHtml = 'Like what you see? Visit the ' +\n",
              "            '<a target=\"_blank\" href=https://colab.research.google.com/notebooks/data_table.ipynb>data table notebook</a>'\n",
              "            + ' to learn more about interactive tables.';\n",
              "          element.innerHTML = '';\n",
              "          dataTable['output_type'] = 'display_data';\n",
              "          await google.colab.output.renderOutput(dataTable, element);\n",
              "          const docLink = document.createElement('div');\n",
              "          docLink.innerHTML = docLinkHtml;\n",
              "          element.appendChild(docLink);\n",
              "        }\n",
              "      </script>\n",
              "    </div>\n",
              "  </div>\n"
            ]
          },
          "metadata": {},
          "execution_count": 7
        }
      ]
    },
    {
      "cell_type": "code",
      "source": [
        "datasets_df[0],datasets_df[5]"
      ],
      "metadata": {
        "id": "_j3eSFTDVENA"
      },
      "execution_count": null,
      "outputs": []
    },
    {
      "cell_type": "code",
      "source": [
        "#notice two files for C7 (6,7) and C13(1,2) run to failure exp\n",
        "#concat the two data files\n",
        "# datasets_df[6]=pd.concat([datasets_df[6],datasets_df[7]])\n",
        "# datasets_df[1]=pd.concat([datasets_df[1],datasets_df[2]])\n",
        "datasets=[]\n",
        "for f in range(len(datasets_df)):\n",
        "  if f==1 or f==6:\n",
        "    datasets.append(pd.concat([datasets_df[f],datasets_df[f+1]]))\n",
        "  else:\n",
        "    datasets.append((datasets_df[f]))\n"
      ],
      "metadata": {
        "id": "OMD6ldpUOkHm"
      },
      "execution_count": null,
      "outputs": []
    },
    {
      "cell_type": "code",
      "source": [
        "ind=[2,7]"
      ],
      "metadata": {
        "id": "iCbJY7Zej5bd"
      },
      "execution_count": null,
      "outputs": []
    },
    {
      "cell_type": "code",
      "source": [
        "datasets=[datasets[i] for i in range(len(datasets)) if i not in ind]"
      ],
      "metadata": {
        "id": "kzrAqJsJjul0"
      },
      "execution_count": null,
      "outputs": []
    },
    {
      "cell_type": "code",
      "source": [
        "len(datasets)"
      ],
      "metadata": {
        "colab": {
          "base_uri": "https://localhost:8080/"
        },
        "id": "2m-GfOI6k6Lg",
        "outputId": "d580b0de-ae59-4e37-ce3b-a7a2f0646939"
      },
      "execution_count": null,
      "outputs": [
        {
          "output_type": "execute_result",
          "data": {
            "text/plain": [
              "8"
            ]
          },
          "metadata": {},
          "execution_count": 12
        }
      ]
    },
    {
      "cell_type": "code",
      "source": [
        "for i, data in enumerate(datasets):\n",
        "  for j in list(data.columns):\n",
        "    data[j].fillna(data[j].mean(), inplace=True)"
      ],
      "metadata": {
        "id": "u3fs1bVZypm1"
      },
      "execution_count": null,
      "outputs": []
    },
    {
      "cell_type": "code",
      "source": [
        "# scaled data\n",
        "# from sklearn.preprocessing import StandardScaler\n",
        "# ss=StandardScaler()\n",
        "# for i, data in enumerate(datasets):\n",
        "#   data.iloc[:,1:]=ss.fit_transform(data.iloc[:,1:])\n",
        "\n",
        "#normalized data\n",
        "from sklearn.preprocessing import MinMaxScaler\n",
        "mms=MinMaxScaler()\n",
        "for i, data in enumerate(datasets):\n",
        "  data.iloc[:,1:]=mms.fit_transform(data.iloc[:,1:])"
      ],
      "metadata": {
        "id": "ABI7ErHtXJ5g"
      },
      "execution_count": null,
      "outputs": []
    },
    {
      "cell_type": "code",
      "source": [
        "datasets[6][0:1]"
      ],
      "metadata": {
        "colab": {
          "base_uri": "https://localhost:8080/",
          "height": 174
        },
        "id": "8zg8pAzWTSLu",
        "outputId": "78ea2430-9bc7-4fc1-ca09-db94c834a762"
      },
      "execution_count": null,
      "outputs": [
        {
          "output_type": "execute_result",
          "data": {
            "text/plain": [
              "   Timestamp       L_1       L_2       A_1       A_2  B_1  B_2       C_1  \\\n",
              "0          0  0.412929  0.327322  0.110221  0.089529  0.0  0.0  0.019516   \n",
              "\n",
              "        C_2       A_3  ...       L_4       L_5       L_6       L_7       L_8  \\\n",
              "0  0.006234  0.164832  ...  0.397641  0.305767  0.007942  0.397174  0.828838   \n",
              "\n",
              "        L_9      L_10  A_5  B_5  C_5  \n",
              "0  0.401051  0.305122  0.0  0.0  0.0  \n",
              "\n",
              "[1 rows x 26 columns]"
            ],
            "text/html": [
              "\n",
              "\n",
              "  <div id=\"df-da3a351b-914f-4e4c-8779-2dbea498993e\">\n",
              "    <div class=\"colab-df-container\">\n",
              "      <div>\n",
              "<style scoped>\n",
              "    .dataframe tbody tr th:only-of-type {\n",
              "        vertical-align: middle;\n",
              "    }\n",
              "\n",
              "    .dataframe tbody tr th {\n",
              "        vertical-align: top;\n",
              "    }\n",
              "\n",
              "    .dataframe thead th {\n",
              "        text-align: right;\n",
              "    }\n",
              "</style>\n",
              "<table border=\"1\" class=\"dataframe\">\n",
              "  <thead>\n",
              "    <tr style=\"text-align: right;\">\n",
              "      <th></th>\n",
              "      <th>Timestamp</th>\n",
              "      <th>L_1</th>\n",
              "      <th>L_2</th>\n",
              "      <th>A_1</th>\n",
              "      <th>A_2</th>\n",
              "      <th>B_1</th>\n",
              "      <th>B_2</th>\n",
              "      <th>C_1</th>\n",
              "      <th>C_2</th>\n",
              "      <th>A_3</th>\n",
              "      <th>...</th>\n",
              "      <th>L_4</th>\n",
              "      <th>L_5</th>\n",
              "      <th>L_6</th>\n",
              "      <th>L_7</th>\n",
              "      <th>L_8</th>\n",
              "      <th>L_9</th>\n",
              "      <th>L_10</th>\n",
              "      <th>A_5</th>\n",
              "      <th>B_5</th>\n",
              "      <th>C_5</th>\n",
              "    </tr>\n",
              "  </thead>\n",
              "  <tbody>\n",
              "    <tr>\n",
              "      <th>0</th>\n",
              "      <td>0</td>\n",
              "      <td>0.412929</td>\n",
              "      <td>0.327322</td>\n",
              "      <td>0.110221</td>\n",
              "      <td>0.089529</td>\n",
              "      <td>0.0</td>\n",
              "      <td>0.0</td>\n",
              "      <td>0.019516</td>\n",
              "      <td>0.006234</td>\n",
              "      <td>0.164832</td>\n",
              "      <td>...</td>\n",
              "      <td>0.397641</td>\n",
              "      <td>0.305767</td>\n",
              "      <td>0.007942</td>\n",
              "      <td>0.397174</td>\n",
              "      <td>0.828838</td>\n",
              "      <td>0.401051</td>\n",
              "      <td>0.305122</td>\n",
              "      <td>0.0</td>\n",
              "      <td>0.0</td>\n",
              "      <td>0.0</td>\n",
              "    </tr>\n",
              "  </tbody>\n",
              "</table>\n",
              "<p>1 rows × 26 columns</p>\n",
              "</div>\n",
              "      <button class=\"colab-df-convert\" onclick=\"convertToInteractive('df-da3a351b-914f-4e4c-8779-2dbea498993e')\"\n",
              "              title=\"Convert this dataframe to an interactive table.\"\n",
              "              style=\"display:none;\">\n",
              "\n",
              "  <svg xmlns=\"http://www.w3.org/2000/svg\" height=\"24px\"viewBox=\"0 0 24 24\"\n",
              "       width=\"24px\">\n",
              "    <path d=\"M0 0h24v24H0V0z\" fill=\"none\"/>\n",
              "    <path d=\"M18.56 5.44l.94 2.06.94-2.06 2.06-.94-2.06-.94-.94-2.06-.94 2.06-2.06.94zm-11 1L8.5 8.5l.94-2.06 2.06-.94-2.06-.94L8.5 2.5l-.94 2.06-2.06.94zm10 10l.94 2.06.94-2.06 2.06-.94-2.06-.94-.94-2.06-.94 2.06-2.06.94z\"/><path d=\"M17.41 7.96l-1.37-1.37c-.4-.4-.92-.59-1.43-.59-.52 0-1.04.2-1.43.59L10.3 9.45l-7.72 7.72c-.78.78-.78 2.05 0 2.83L4 21.41c.39.39.9.59 1.41.59.51 0 1.02-.2 1.41-.59l7.78-7.78 2.81-2.81c.8-.78.8-2.07 0-2.86zM5.41 20L4 18.59l7.72-7.72 1.47 1.35L5.41 20z\"/>\n",
              "  </svg>\n",
              "      </button>\n",
              "\n",
              "\n",
              "\n",
              "    <div id=\"df-e4263a15-12bd-4bdb-91ba-2cbe22a1c8d2\">\n",
              "      <button class=\"colab-df-quickchart\" onclick=\"quickchart('df-e4263a15-12bd-4bdb-91ba-2cbe22a1c8d2')\"\n",
              "              title=\"Suggest charts.\"\n",
              "              style=\"display:none;\">\n",
              "\n",
              "<svg xmlns=\"http://www.w3.org/2000/svg\" height=\"24px\"viewBox=\"0 0 24 24\"\n",
              "     width=\"24px\">\n",
              "    <g>\n",
              "        <path d=\"M19 3H5c-1.1 0-2 .9-2 2v14c0 1.1.9 2 2 2h14c1.1 0 2-.9 2-2V5c0-1.1-.9-2-2-2zM9 17H7v-7h2v7zm4 0h-2V7h2v10zm4 0h-2v-4h2v4z\"/>\n",
              "    </g>\n",
              "</svg>\n",
              "      </button>\n",
              "    </div>\n",
              "\n",
              "<style>\n",
              "  .colab-df-quickchart {\n",
              "    background-color: #E8F0FE;\n",
              "    border: none;\n",
              "    border-radius: 50%;\n",
              "    cursor: pointer;\n",
              "    display: none;\n",
              "    fill: #1967D2;\n",
              "    height: 32px;\n",
              "    padding: 0 0 0 0;\n",
              "    width: 32px;\n",
              "  }\n",
              "\n",
              "  .colab-df-quickchart:hover {\n",
              "    background-color: #E2EBFA;\n",
              "    box-shadow: 0px 1px 2px rgba(60, 64, 67, 0.3), 0px 1px 3px 1px rgba(60, 64, 67, 0.15);\n",
              "    fill: #174EA6;\n",
              "  }\n",
              "\n",
              "  [theme=dark] .colab-df-quickchart {\n",
              "    background-color: #3B4455;\n",
              "    fill: #D2E3FC;\n",
              "  }\n",
              "\n",
              "  [theme=dark] .colab-df-quickchart:hover {\n",
              "    background-color: #434B5C;\n",
              "    box-shadow: 0px 1px 3px 1px rgba(0, 0, 0, 0.15);\n",
              "    filter: drop-shadow(0px 1px 2px rgba(0, 0, 0, 0.3));\n",
              "    fill: #FFFFFF;\n",
              "  }\n",
              "</style>\n",
              "\n",
              "    <script>\n",
              "      async function quickchart(key) {\n",
              "        const containerElement = document.querySelector('#' + key);\n",
              "        const charts = await google.colab.kernel.invokeFunction(\n",
              "            'suggestCharts', [key], {});\n",
              "      }\n",
              "    </script>\n",
              "\n",
              "      <script>\n",
              "\n",
              "function displayQuickchartButton(domScope) {\n",
              "  let quickchartButtonEl =\n",
              "    domScope.querySelector('#df-e4263a15-12bd-4bdb-91ba-2cbe22a1c8d2 button.colab-df-quickchart');\n",
              "  quickchartButtonEl.style.display =\n",
              "    google.colab.kernel.accessAllowed ? 'block' : 'none';\n",
              "}\n",
              "\n",
              "        displayQuickchartButton(document);\n",
              "      </script>\n",
              "      <style>\n",
              "    .colab-df-container {\n",
              "      display:flex;\n",
              "      flex-wrap:wrap;\n",
              "      gap: 12px;\n",
              "    }\n",
              "\n",
              "    .colab-df-convert {\n",
              "      background-color: #E8F0FE;\n",
              "      border: none;\n",
              "      border-radius: 50%;\n",
              "      cursor: pointer;\n",
              "      display: none;\n",
              "      fill: #1967D2;\n",
              "      height: 32px;\n",
              "      padding: 0 0 0 0;\n",
              "      width: 32px;\n",
              "    }\n",
              "\n",
              "    .colab-df-convert:hover {\n",
              "      background-color: #E2EBFA;\n",
              "      box-shadow: 0px 1px 2px rgba(60, 64, 67, 0.3), 0px 1px 3px 1px rgba(60, 64, 67, 0.15);\n",
              "      fill: #174EA6;\n",
              "    }\n",
              "\n",
              "    [theme=dark] .colab-df-convert {\n",
              "      background-color: #3B4455;\n",
              "      fill: #D2E3FC;\n",
              "    }\n",
              "\n",
              "    [theme=dark] .colab-df-convert:hover {\n",
              "      background-color: #434B5C;\n",
              "      box-shadow: 0px 1px 3px 1px rgba(0, 0, 0, 0.15);\n",
              "      filter: drop-shadow(0px 1px 2px rgba(0, 0, 0, 0.3));\n",
              "      fill: #FFFFFF;\n",
              "    }\n",
              "  </style>\n",
              "\n",
              "      <script>\n",
              "        const buttonEl =\n",
              "          document.querySelector('#df-da3a351b-914f-4e4c-8779-2dbea498993e button.colab-df-convert');\n",
              "        buttonEl.style.display =\n",
              "          google.colab.kernel.accessAllowed ? 'block' : 'none';\n",
              "\n",
              "        async function convertToInteractive(key) {\n",
              "          const element = document.querySelector('#df-da3a351b-914f-4e4c-8779-2dbea498993e');\n",
              "          const dataTable =\n",
              "            await google.colab.kernel.invokeFunction('convertToInteractive',\n",
              "                                                     [key], {});\n",
              "          if (!dataTable) return;\n",
              "\n",
              "          const docLinkHtml = 'Like what you see? Visit the ' +\n",
              "            '<a target=\"_blank\" href=https://colab.research.google.com/notebooks/data_table.ipynb>data table notebook</a>'\n",
              "            + ' to learn more about interactive tables.';\n",
              "          element.innerHTML = '';\n",
              "          dataTable['output_type'] = 'display_data';\n",
              "          await google.colab.output.renderOutput(dataTable, element);\n",
              "          const docLink = document.createElement('div');\n",
              "          docLink.innerHTML = docLinkHtml;\n",
              "          element.appendChild(docLink);\n",
              "        }\n",
              "      </script>\n",
              "    </div>\n",
              "  </div>\n"
            ]
          },
          "metadata": {},
          "execution_count": 15
        }
      ]
    },
    {
      "cell_type": "code",
      "source": [
        "!pip install minisom"
      ],
      "metadata": {
        "colab": {
          "base_uri": "https://localhost:8080/"
        },
        "id": "sk_WPM8Il7OA",
        "outputId": "3b7264ac-454b-48cb-8f95-655e50166457"
      },
      "execution_count": null,
      "outputs": [
        {
          "output_type": "stream",
          "name": "stdout",
          "text": [
            "Collecting minisom\n",
            "  Downloading MiniSom-2.3.1.tar.gz (10 kB)\n",
            "  Preparing metadata (setup.py) ... \u001b[?25l\u001b[?25hdone\n",
            "Building wheels for collected packages: minisom\n",
            "  Building wheel for minisom (setup.py) ... \u001b[?25l\u001b[?25hdone\n",
            "  Created wheel for minisom: filename=MiniSom-2.3.1-py3-none-any.whl size=10589 sha256=7665b81e3b8440334ab741f044b1c308aa711776c03e23c9798653e0dd8c756b\n",
            "  Stored in directory: /root/.cache/pip/wheels/c7/92/d2/33bbda5f86fd8830510b16aa98c8dd420129b5cb24248fd6db\n",
            "Successfully built minisom\n",
            "Installing collected packages: minisom\n",
            "Successfully installed minisom-2.3.1\n"
          ]
        }
      ]
    },
    {
      "cell_type": "code",
      "source": [
        "from minisom import MiniSom\n",
        "import numpy as np\n",
        "\n",
        "# Assuming you have 8 data sets in a list named 'data_sets'\n",
        "# Each data set is represented as a numpy array with 8 features\n",
        "# and the component condition label\n",
        "\n",
        "# Define the grid size for the SOM\n",
        "grid_size = (50, 50)  # You can adjust this based on your data and requirements\n",
        "\n",
        "\n",
        "# Create a list to store the quantization errors for each data set\n",
        "quantization_errors = []\n",
        "\n",
        "# Iterate over each data set and use it as the target for prediction\n",
        "for i, data_set in enumerate(datasets):\n",
        "  # print(i)\n",
        "  # print(data_set.head(5))\n",
        "  # print(data_set.head(5))\n",
        "  # print(data_set.iloc[:int(0.2 * len(data_set)),1:])\n",
        "  # Create a training data set by combining all other data sets\n",
        "  # except the current data set being used as the target\n",
        "  training_data = np.vstack([data.iloc[:int(0.1 * len(data)),1:] for j, data in enumerate(datasets) if j != i])\n",
        "\n",
        "  # Train the SOM model on the training data\n",
        "  # Initialize the SOM model\n",
        "  som = MiniSom(grid_size[0], grid_size[1], 25, sigma=1.0, learning_rate=0.5)\n",
        "  som.train(training_data, 100)  # You can adjust the number of iterations (epochs) as needed\n",
        "\n",
        "  # ((((((((Get the quantization error for the current data set (target)\n",
        "  set_qerror=data_set.iloc[:int(0.1 * len(data_set)),1:]\n",
        "  print(len(data_set))\n",
        "  print(len(set_qerror))\n",
        "  for k in range((len(set_qerror.index))):\n",
        "    # print(k)\n",
        "  #print(train_new_condition_scaled[i])\n",
        "    data_point=set_qerror[k:k+1].values\n",
        "    # print(data_point)\n",
        "    #som.quantization_error(data_point)\n",
        "  # Append the quantization error to the list\n",
        "    quantization_errors.append(som.quantization_error(data_point))##))))))))\n",
        "\n",
        "# # Calculate the threshold for anomaly detection using quantiles\n",
        "# threshold = np.quantile(quantization_errors, 0.9999)  # You can adjust the quantile value as needed\n",
        "\n",
        "# # Print the threshold value\n",
        "# print(\"Threshold for anomaly detection:\", threshold)\n",
        "\n",
        "# Now you can use the threshold to detect anomalies in the data sets\n",
        "# For example, you can iterate over the quantization_errors list and\n",
        "# check if the quantization error for each data set is greater than the threshold\n",
        "# If it is, then the data set is considered as an anomaly\n"
      ],
      "metadata": {
        "colab": {
          "base_uri": "https://localhost:8080/",
          "height": 425
        },
        "id": "EWTwQYh0lAVO",
        "outputId": "3458f160-fd1d-4fc4-a136-b64bac4191c1"
      },
      "execution_count": null,
      "outputs": [
        {
          "output_type": "stream",
          "name": "stdout",
          "text": [
            "18429\n",
            "1842\n"
          ]
        },
        {
          "output_type": "error",
          "ename": "KeyboardInterrupt",
          "evalue": "ignored",
          "traceback": [
            "\u001b[0;31m---------------------------------------------------------------------------\u001b[0m",
            "\u001b[0;31mKeyboardInterrupt\u001b[0m                         Traceback (most recent call last)",
            "\u001b[0;32m<ipython-input-50-735bd3e633df>\u001b[0m in \u001b[0;36m<cell line: 16>\u001b[0;34m()\u001b[0m\n\u001b[1;32m     39\u001b[0m     \u001b[0;31m#som.quantization_error(data_point)\u001b[0m\u001b[0;34m\u001b[0m\u001b[0;34m\u001b[0m\u001b[0m\n\u001b[1;32m     40\u001b[0m   \u001b[0;31m# Append the quantization error to the list\u001b[0m\u001b[0;34m\u001b[0m\u001b[0;34m\u001b[0m\u001b[0m\n\u001b[0;32m---> 41\u001b[0;31m     \u001b[0mquantization_errors\u001b[0m\u001b[0;34m.\u001b[0m\u001b[0mappend\u001b[0m\u001b[0;34m(\u001b[0m\u001b[0msom\u001b[0m\u001b[0;34m.\u001b[0m\u001b[0mquantization_error\u001b[0m\u001b[0;34m(\u001b[0m\u001b[0mdata_point\u001b[0m\u001b[0;34m)\u001b[0m\u001b[0;34m)\u001b[0m\u001b[0;31m##))))))))\u001b[0m\u001b[0;34m\u001b[0m\u001b[0;34m\u001b[0m\u001b[0m\n\u001b[0m\u001b[1;32m     42\u001b[0m \u001b[0;34m\u001b[0m\u001b[0m\n\u001b[1;32m     43\u001b[0m \u001b[0;31m# # Calculate the threshold for anomaly detection using quantiles\u001b[0m\u001b[0;34m\u001b[0m\u001b[0;34m\u001b[0m\u001b[0m\n",
            "\u001b[0;32m/usr/local/lib/python3.10/dist-packages/minisom.py\u001b[0m in \u001b[0;36mquantization_error\u001b[0;34m(self, data)\u001b[0m\n\u001b[1;32m    540\u001b[0m         distance between each input sample and its best matching unit.\"\"\"\n\u001b[1;32m    541\u001b[0m         \u001b[0mself\u001b[0m\u001b[0;34m.\u001b[0m\u001b[0m_check_input_len\u001b[0m\u001b[0;34m(\u001b[0m\u001b[0mdata\u001b[0m\u001b[0;34m)\u001b[0m\u001b[0;34m\u001b[0m\u001b[0;34m\u001b[0m\u001b[0m\n\u001b[0;32m--> 542\u001b[0;31m         \u001b[0;32mreturn\u001b[0m \u001b[0mnorm\u001b[0m\u001b[0;34m(\u001b[0m\u001b[0mdata\u001b[0m\u001b[0;34m-\u001b[0m\u001b[0mself\u001b[0m\u001b[0;34m.\u001b[0m\u001b[0mquantization\u001b[0m\u001b[0;34m(\u001b[0m\u001b[0mdata\u001b[0m\u001b[0;34m)\u001b[0m\u001b[0;34m,\u001b[0m \u001b[0maxis\u001b[0m\u001b[0;34m=\u001b[0m\u001b[0;36m1\u001b[0m\u001b[0;34m)\u001b[0m\u001b[0;34m.\u001b[0m\u001b[0mmean\u001b[0m\u001b[0;34m(\u001b[0m\u001b[0;34m)\u001b[0m\u001b[0;34m\u001b[0m\u001b[0;34m\u001b[0m\u001b[0m\n\u001b[0m\u001b[1;32m    543\u001b[0m \u001b[0;34m\u001b[0m\u001b[0m\n\u001b[1;32m    544\u001b[0m     \u001b[0;32mdef\u001b[0m \u001b[0mtopographic_error\u001b[0m\u001b[0;34m(\u001b[0m\u001b[0mself\u001b[0m\u001b[0;34m,\u001b[0m \u001b[0mdata\u001b[0m\u001b[0;34m)\u001b[0m\u001b[0;34m:\u001b[0m\u001b[0;34m\u001b[0m\u001b[0;34m\u001b[0m\u001b[0m\n",
            "\u001b[0;32m/usr/local/lib/python3.10/dist-packages/minisom.py\u001b[0m in \u001b[0;36mquantization\u001b[0;34m(self, data)\u001b[0m\n\u001b[1;32m    347\u001b[0m         to each sample in data.\"\"\"\n\u001b[1;32m    348\u001b[0m         \u001b[0mself\u001b[0m\u001b[0;34m.\u001b[0m\u001b[0m_check_input_len\u001b[0m\u001b[0;34m(\u001b[0m\u001b[0mdata\u001b[0m\u001b[0;34m)\u001b[0m\u001b[0;34m\u001b[0m\u001b[0;34m\u001b[0m\u001b[0m\n\u001b[0;32m--> 349\u001b[0;31m         \u001b[0mwinners_coords\u001b[0m \u001b[0;34m=\u001b[0m \u001b[0margmin\u001b[0m\u001b[0;34m(\u001b[0m\u001b[0mself\u001b[0m\u001b[0;34m.\u001b[0m\u001b[0m_distance_from_weights\u001b[0m\u001b[0;34m(\u001b[0m\u001b[0mdata\u001b[0m\u001b[0;34m)\u001b[0m\u001b[0;34m,\u001b[0m \u001b[0maxis\u001b[0m\u001b[0;34m=\u001b[0m\u001b[0;36m1\u001b[0m\u001b[0;34m)\u001b[0m\u001b[0;34m\u001b[0m\u001b[0;34m\u001b[0m\u001b[0m\n\u001b[0m\u001b[1;32m    350\u001b[0m         return self._weights[unravel_index(winners_coords,\n\u001b[1;32m    351\u001b[0m                                            self._weights.shape[:2])]\n",
            "\u001b[0;32m/usr/local/lib/python3.10/dist-packages/minisom.py\u001b[0m in \u001b[0;36m_distance_from_weights\u001b[0;34m(self, data)\u001b[0m\n\u001b[1;32m    532\u001b[0m         \u001b[0mweights_flat\u001b[0m \u001b[0;34m=\u001b[0m \u001b[0mself\u001b[0m\u001b[0;34m.\u001b[0m\u001b[0m_weights\u001b[0m\u001b[0;34m.\u001b[0m\u001b[0mreshape\u001b[0m\u001b[0;34m(\u001b[0m\u001b[0;34m-\u001b[0m\u001b[0;36m1\u001b[0m\u001b[0;34m,\u001b[0m \u001b[0mself\u001b[0m\u001b[0;34m.\u001b[0m\u001b[0m_weights\u001b[0m\u001b[0;34m.\u001b[0m\u001b[0mshape\u001b[0m\u001b[0;34m[\u001b[0m\u001b[0;36m2\u001b[0m\u001b[0;34m]\u001b[0m\u001b[0;34m)\u001b[0m\u001b[0;34m\u001b[0m\u001b[0;34m\u001b[0m\u001b[0m\n\u001b[1;32m    533\u001b[0m         \u001b[0minput_data_sq\u001b[0m \u001b[0;34m=\u001b[0m \u001b[0mpower\u001b[0m\u001b[0;34m(\u001b[0m\u001b[0minput_data\u001b[0m\u001b[0;34m,\u001b[0m \u001b[0;36m2\u001b[0m\u001b[0;34m)\u001b[0m\u001b[0;34m.\u001b[0m\u001b[0msum\u001b[0m\u001b[0;34m(\u001b[0m\u001b[0maxis\u001b[0m\u001b[0;34m=\u001b[0m\u001b[0;36m1\u001b[0m\u001b[0;34m,\u001b[0m \u001b[0mkeepdims\u001b[0m\u001b[0;34m=\u001b[0m\u001b[0;32mTrue\u001b[0m\u001b[0;34m)\u001b[0m\u001b[0;34m\u001b[0m\u001b[0;34m\u001b[0m\u001b[0m\n\u001b[0;32m--> 534\u001b[0;31m         \u001b[0mweights_flat_sq\u001b[0m \u001b[0;34m=\u001b[0m \u001b[0mpower\u001b[0m\u001b[0;34m(\u001b[0m\u001b[0mweights_flat\u001b[0m\u001b[0;34m,\u001b[0m \u001b[0;36m2\u001b[0m\u001b[0;34m)\u001b[0m\u001b[0;34m.\u001b[0m\u001b[0msum\u001b[0m\u001b[0;34m(\u001b[0m\u001b[0maxis\u001b[0m\u001b[0;34m=\u001b[0m\u001b[0;36m1\u001b[0m\u001b[0;34m,\u001b[0m \u001b[0mkeepdims\u001b[0m\u001b[0;34m=\u001b[0m\u001b[0;32mTrue\u001b[0m\u001b[0;34m)\u001b[0m\u001b[0;34m\u001b[0m\u001b[0;34m\u001b[0m\u001b[0m\n\u001b[0m\u001b[1;32m    535\u001b[0m         \u001b[0mcross_term\u001b[0m \u001b[0;34m=\u001b[0m \u001b[0mdot\u001b[0m\u001b[0;34m(\u001b[0m\u001b[0minput_data\u001b[0m\u001b[0;34m,\u001b[0m \u001b[0mweights_flat\u001b[0m\u001b[0;34m.\u001b[0m\u001b[0mT\u001b[0m\u001b[0;34m)\u001b[0m\u001b[0;34m\u001b[0m\u001b[0;34m\u001b[0m\u001b[0m\n\u001b[1;32m    536\u001b[0m         \u001b[0;32mreturn\u001b[0m \u001b[0msqrt\u001b[0m\u001b[0;34m(\u001b[0m\u001b[0;34m-\u001b[0m\u001b[0;36m2\u001b[0m \u001b[0;34m*\u001b[0m \u001b[0mcross_term\u001b[0m \u001b[0;34m+\u001b[0m \u001b[0minput_data_sq\u001b[0m \u001b[0;34m+\u001b[0m \u001b[0mweights_flat_sq\u001b[0m\u001b[0;34m.\u001b[0m\u001b[0mT\u001b[0m\u001b[0;34m)\u001b[0m\u001b[0;34m\u001b[0m\u001b[0;34m\u001b[0m\u001b[0m\n",
            "\u001b[0;31mKeyboardInterrupt\u001b[0m: "
          ]
        }
      ]
    },
    {
      "cell_type": "markdown",
      "source": [
        "Alt method"
      ],
      "metadata": {
        "id": "8pPl6_3of5rv"
      }
    },
    {
      "cell_type": "code",
      "source": [
        "from minisom import MiniSom\n",
        "import numpy as np\n",
        "\n",
        "# Assuming you have 8 data sets in a list named 'data_sets'\n",
        "# Each data set is represented as a numpy array with 8 features\n",
        "# and the component condition label\n",
        "\n",
        "# Define the grid size for the SOM\n",
        "grid_size = (50, 50)  # You can adjust this based on your data and requirements\n",
        "\n",
        "\n",
        "# Iterate over each data set and use it as the target for prediction\n",
        "for i, data_set in enumerate(datasets):\n",
        "  # print(i)\n",
        "  # print(data_set.head(5))\n",
        "  # print(data_set.head(5))\n",
        "  # print(data_set.iloc[:int(0.2 * len(data_set)),1:])\n",
        "  # Create a training data set by combining all other data sets\n",
        "  # except the current data set being used as the target\n",
        "  training_data = np.vstack([data.iloc[:int(0.1 * len(data)),1:] for j, data in enumerate(datasets) if j != i])\n",
        "\n",
        "  # Train the SOM model on the training data\n",
        "  # Initialize the SOM model\n",
        "  som = MiniSom(grid_size[0], grid_size[1], 25, sigma=1.0, learning_rate=0.5)\n",
        "  som.train(training_data, 100)  # You can adjust the number of iterations (epochs) as needed\n",
        "\n",
        "  # ((((((((Get the quantization error for the training data set\n",
        "  print(len(data_set))\n",
        "  # Create a list to store the quantization errors for each data set\n",
        "  quantization_errors = []\n",
        "  for k in range((len(training_data))):\n",
        "    # print(k)\n",
        "  #print(train_new_condition_scaled[i])\n",
        "    data_point=training_data[k:k+1]\n",
        "    # print(data_point)\n",
        "    #som.quantization_error(data_point)\n",
        "  # Append the quantization error to the list\n",
        "    quantization_errors.append(som.quantization_error(data_point))##))))))))\n",
        "\n",
        "  # Calculate the threshold for anomaly detection using quantiles\n",
        "  threshold = np.quantile(quantization_errors, 0.9999)  # You can adjust the quantile value as needed\n",
        "\n",
        "  # Print the threshold value\n",
        "  print(\"Threshold for anomaly detection:\", threshold)\n",
        "\n",
        "  qerror=[]\n",
        "  for f in range(len(data_set)):\n",
        "    q_error=som.quantization_error(data_set.iloc[f:f+1,1:].values)\n",
        "    qerror.append(q_error)\n",
        "    # print(q_error)\n",
        "    if q_error>threshold:\n",
        "     print('anomaly detected at Timestamp', data_set.Timestamp[f])\n",
        "\n",
        "# Now you can use the threshold to detect anomalies in the data sets\n",
        "# For example, you can iterate over the quantization_errors list and\n",
        "# check if the quantization error for each data set is greater than the threshold\n",
        "# If it is, then the data set is considered as an anomaly\n"
      ],
      "metadata": {
        "id": "RhJ-vxi5f5Fz"
      },
      "execution_count": null,
      "outputs": []
    },
    {
      "cell_type": "code",
      "source": [
        "quantization_errors=sorted(quantization_errors)\n",
        "# Calculate the threshold for anomaly detection using quantiles\n",
        "threshold = np.quantile(quantization_errors, 0.9999)  # You can adjust the quantile value as needed\n"
      ],
      "metadata": {
        "id": "Al5gTo9wJgGI"
      },
      "execution_count": null,
      "outputs": []
    },
    {
      "cell_type": "code",
      "source": [
        "print(\"Threshold for anomaly detection:\", threshold)"
      ],
      "metadata": {
        "colab": {
          "base_uri": "https://localhost:8080/"
        },
        "id": "Nu_rogOCJuUo",
        "outputId": "2b7c0316-82a9-4db1-d8d3-55cd274144b8"
      },
      "execution_count": null,
      "outputs": [
        {
          "output_type": "stream",
          "name": "stdout",
          "text": [
            "Threshold for anomaly detection: 1.6992086191672093\n"
          ]
        }
      ]
    },
    {
      "cell_type": "code",
      "source": [
        "## now test the whole data set for anomaly detection\n",
        "for i,data in enumerate(datasets):\n",
        "\n",
        "  q_error=som.quantization_error((datasets[1].iloc[i:i+1,1:]).values)\n",
        "  # print(q_error)\n",
        "  if q_error>threshold:\n",
        "    print('anomaly detected at Timestamp', datasets[1].Timestamp[i])"
      ],
      "metadata": {
        "colab": {
          "base_uri": "https://localhost:8080/",
          "height": 240
        },
        "id": "UrdmD7a2KQNl",
        "outputId": "f681b030-e952-4e80-f442-211339605d34"
      },
      "execution_count": null,
      "outputs": [
        {
          "output_type": "error",
          "ename": "TypeError",
          "evalue": "ignored",
          "traceback": [
            "\u001b[0;31m---------------------------------------------------------------------------\u001b[0m",
            "\u001b[0;31mTypeError\u001b[0m                                 Traceback (most recent call last)",
            "\u001b[0;32m<ipython-input-43-70983d30d4e2>\u001b[0m in \u001b[0;36m<cell line: 2>\u001b[0;34m()\u001b[0m\n\u001b[1;32m      1\u001b[0m \u001b[0;31m## now test the whole data set for anomaly detection\u001b[0m\u001b[0;34m\u001b[0m\u001b[0;34m\u001b[0m\u001b[0m\n\u001b[0;32m----> 2\u001b[0;31m \u001b[0;32mfor\u001b[0m \u001b[0mi\u001b[0m\u001b[0;34m,\u001b[0m\u001b[0mdata\u001b[0m \u001b[0;32min\u001b[0m \u001b[0menumerate\u001b[0m\u001b[0;34m(\u001b[0m\u001b[0;34m)\u001b[0m\u001b[0;34m:\u001b[0m\u001b[0;34m\u001b[0m\u001b[0;34m\u001b[0m\u001b[0m\n\u001b[0m\u001b[1;32m      3\u001b[0m   \u001b[0mq_error\u001b[0m\u001b[0;34m=\u001b[0m\u001b[0msom\u001b[0m\u001b[0;34m.\u001b[0m\u001b[0mquantization_error\u001b[0m\u001b[0;34m(\u001b[0m\u001b[0;34m(\u001b[0m\u001b[0mdatasets\u001b[0m\u001b[0;34m[\u001b[0m\u001b[0;36m1\u001b[0m\u001b[0;34m]\u001b[0m\u001b[0;34m.\u001b[0m\u001b[0miloc\u001b[0m\u001b[0;34m[\u001b[0m\u001b[0mi\u001b[0m\u001b[0;34m:\u001b[0m\u001b[0mi\u001b[0m\u001b[0;34m+\u001b[0m\u001b[0;36m1\u001b[0m\u001b[0;34m,\u001b[0m\u001b[0;36m1\u001b[0m\u001b[0;34m:\u001b[0m\u001b[0;34m]\u001b[0m\u001b[0;34m)\u001b[0m\u001b[0;34m.\u001b[0m\u001b[0mvalues\u001b[0m\u001b[0;34m)\u001b[0m\u001b[0;34m\u001b[0m\u001b[0;34m\u001b[0m\u001b[0m\n\u001b[1;32m      4\u001b[0m   \u001b[0;31m# print(q_error)\u001b[0m\u001b[0;34m\u001b[0m\u001b[0;34m\u001b[0m\u001b[0m\n\u001b[1;32m      5\u001b[0m   \u001b[0;32mif\u001b[0m \u001b[0mq_error\u001b[0m\u001b[0;34m>\u001b[0m\u001b[0mthreshold\u001b[0m\u001b[0;34m:\u001b[0m\u001b[0;34m\u001b[0m\u001b[0;34m\u001b[0m\u001b[0m\n",
            "\u001b[0;31mTypeError\u001b[0m: enumerate() missing required argument 'iterable' (pos 1)"
          ]
        }
      ]
    },
    {
      "cell_type": "markdown",
      "source": [
        "feture selection"
      ],
      "metadata": {
        "id": "BzRJbeOHoSlT"
      }
    },
    {
      "cell_type": "code",
      "source": [
        "from keras.models import Model\n",
        "from keras.layers import Input, Dense\n",
        "\n",
        "# Prepare your data and create time windows\n",
        "\n",
        "# Define the Autoencoder architecture\n",
        "input_dim = 25  # Number of input features\n",
        "encoding_dim = 25  # Number of neurons in the encoder layers\n",
        "\n",
        "input_layer = Input(shape=(input_dim,))\n",
        "encoded = Dense(encoding_dim, activation='relu')(input_layer)\n",
        "decoded = Dense(input_dim, activation='sigmoid')(encoded)\n",
        "\n",
        "autoencoder = Model(input_layer, decoded)\n",
        "\n",
        "imp_features=[]\n",
        "# Compile and train the Autoencoder\n",
        "for i, data_set in enumerate(datasets):\n",
        "  # if i==2:\n",
        "  train_data=data_set.iloc[:,1:].values\n",
        "  autoencoder.compile(optimizer='adam', loss='mean_squared_error')\n",
        "  autoencoder.fit(train_data, train_data, epochs=10, batch_size=3)\n",
        "\n",
        "  # Extract feature importance from the encoder layers\n",
        "  encoder = Model(input_layer, encoded)\n",
        "  feature_importance = encoder.predict(train_data)\n",
        "\n",
        "  # Calculate average or sum of activations for each feature\n",
        "  feature_importance_avg = feature_importance.mean(axis=0)\n",
        "  # Alternatively, you can use feature_importance.sum(axis=0)\n",
        "\n",
        "  # Feature ranking\n",
        "  feature_ranking = np.argsort(-feature_importance_avg)\n",
        "\n",
        "# # Anomaly detection\n",
        "# reconstructed_data = autoencoder.predict(test_data)\n",
        "# reconstruction_error = np.mean(np.square(test_data - reconstructed_data), axis=1)\n",
        "\n",
        "# # Anomaly ranking\n",
        "# anomaly_ranking = np.argsort(-reconstruction_error)\n",
        "\n",
        "# Select top 8-10 features for further analysis\n",
        "  selected_features = feature_ranking[:7]\n",
        "  imp_features.append(selected_features)\n",
        "# Use selected features for anomaly detection and further analysis\n",
        "print(imp_features)"
      ],
      "metadata": {
        "colab": {
          "base_uri": "https://localhost:8080/",
          "height": 443
        },
        "id": "mv_GFlA3oUj1",
        "outputId": "f5191be8-fbb4-4a28-e77c-df1f48140275"
      },
      "execution_count": null,
      "outputs": [
        {
          "output_type": "stream",
          "name": "stdout",
          "text": [
            "Epoch 1/10\n",
            " 906/6143 [===>..........................] - ETA: 36s - loss: 0.0232"
          ]
        },
        {
          "output_type": "error",
          "ename": "KeyboardInterrupt",
          "evalue": "ignored",
          "traceback": [
            "\u001b[0;31m---------------------------------------------------------------------------\u001b[0m",
            "\u001b[0;31mKeyboardInterrupt\u001b[0m                         Traceback (most recent call last)",
            "\u001b[0;32m<ipython-input-125-c7690ffea68b>\u001b[0m in \u001b[0;36m<cell line: 18>\u001b[0;34m()\u001b[0m\n\u001b[1;32m     20\u001b[0m   \u001b[0mtrain_data\u001b[0m\u001b[0;34m=\u001b[0m\u001b[0mdata_set\u001b[0m\u001b[0;34m.\u001b[0m\u001b[0miloc\u001b[0m\u001b[0;34m[\u001b[0m\u001b[0;34m:\u001b[0m\u001b[0;34m,\u001b[0m\u001b[0;36m1\u001b[0m\u001b[0;34m:\u001b[0m\u001b[0;34m]\u001b[0m\u001b[0;34m.\u001b[0m\u001b[0mvalues\u001b[0m\u001b[0;34m\u001b[0m\u001b[0;34m\u001b[0m\u001b[0m\n\u001b[1;32m     21\u001b[0m   \u001b[0mautoencoder\u001b[0m\u001b[0;34m.\u001b[0m\u001b[0mcompile\u001b[0m\u001b[0;34m(\u001b[0m\u001b[0moptimizer\u001b[0m\u001b[0;34m=\u001b[0m\u001b[0;34m'adam'\u001b[0m\u001b[0;34m,\u001b[0m \u001b[0mloss\u001b[0m\u001b[0;34m=\u001b[0m\u001b[0;34m'mean_squared_error'\u001b[0m\u001b[0;34m)\u001b[0m\u001b[0;34m\u001b[0m\u001b[0;34m\u001b[0m\u001b[0m\n\u001b[0;32m---> 22\u001b[0;31m   \u001b[0mautoencoder\u001b[0m\u001b[0;34m.\u001b[0m\u001b[0mfit\u001b[0m\u001b[0;34m(\u001b[0m\u001b[0mtrain_data\u001b[0m\u001b[0;34m,\u001b[0m \u001b[0mtrain_data\u001b[0m\u001b[0;34m,\u001b[0m \u001b[0mepochs\u001b[0m\u001b[0;34m=\u001b[0m\u001b[0;36m10\u001b[0m\u001b[0;34m,\u001b[0m \u001b[0mbatch_size\u001b[0m\u001b[0;34m=\u001b[0m\u001b[0;36m3\u001b[0m\u001b[0;34m)\u001b[0m\u001b[0;34m\u001b[0m\u001b[0;34m\u001b[0m\u001b[0m\n\u001b[0m\u001b[1;32m     23\u001b[0m \u001b[0;34m\u001b[0m\u001b[0m\n\u001b[1;32m     24\u001b[0m   \u001b[0;31m# Extract feature importance from the encoder layers\u001b[0m\u001b[0;34m\u001b[0m\u001b[0;34m\u001b[0m\u001b[0m\n",
            "\u001b[0;32m/usr/local/lib/python3.10/dist-packages/keras/utils/traceback_utils.py\u001b[0m in \u001b[0;36merror_handler\u001b[0;34m(*args, **kwargs)\u001b[0m\n\u001b[1;32m     63\u001b[0m         \u001b[0mfiltered_tb\u001b[0m \u001b[0;34m=\u001b[0m \u001b[0;32mNone\u001b[0m\u001b[0;34m\u001b[0m\u001b[0;34m\u001b[0m\u001b[0m\n\u001b[1;32m     64\u001b[0m         \u001b[0;32mtry\u001b[0m\u001b[0;34m:\u001b[0m\u001b[0;34m\u001b[0m\u001b[0;34m\u001b[0m\u001b[0m\n\u001b[0;32m---> 65\u001b[0;31m             \u001b[0;32mreturn\u001b[0m \u001b[0mfn\u001b[0m\u001b[0;34m(\u001b[0m\u001b[0;34m*\u001b[0m\u001b[0margs\u001b[0m\u001b[0;34m,\u001b[0m \u001b[0;34m**\u001b[0m\u001b[0mkwargs\u001b[0m\u001b[0;34m)\u001b[0m\u001b[0;34m\u001b[0m\u001b[0;34m\u001b[0m\u001b[0m\n\u001b[0m\u001b[1;32m     66\u001b[0m         \u001b[0;32mexcept\u001b[0m \u001b[0mException\u001b[0m \u001b[0;32mas\u001b[0m \u001b[0me\u001b[0m\u001b[0;34m:\u001b[0m\u001b[0;34m\u001b[0m\u001b[0;34m\u001b[0m\u001b[0m\n\u001b[1;32m     67\u001b[0m             \u001b[0mfiltered_tb\u001b[0m \u001b[0;34m=\u001b[0m \u001b[0m_process_traceback_frames\u001b[0m\u001b[0;34m(\u001b[0m\u001b[0me\u001b[0m\u001b[0;34m.\u001b[0m\u001b[0m__traceback__\u001b[0m\u001b[0;34m)\u001b[0m\u001b[0;34m\u001b[0m\u001b[0;34m\u001b[0m\u001b[0m\n",
            "\u001b[0;32m/usr/local/lib/python3.10/dist-packages/keras/engine/training.py\u001b[0m in \u001b[0;36mfit\u001b[0;34m(self, x, y, batch_size, epochs, verbose, callbacks, validation_split, validation_data, shuffle, class_weight, sample_weight, initial_epoch, steps_per_epoch, validation_steps, validation_batch_size, validation_freq, max_queue_size, workers, use_multiprocessing)\u001b[0m\n\u001b[1;32m   1683\u001b[0m                         ):\n\u001b[1;32m   1684\u001b[0m                             \u001b[0mcallbacks\u001b[0m\u001b[0;34m.\u001b[0m\u001b[0mon_train_batch_begin\u001b[0m\u001b[0;34m(\u001b[0m\u001b[0mstep\u001b[0m\u001b[0;34m)\u001b[0m\u001b[0;34m\u001b[0m\u001b[0;34m\u001b[0m\u001b[0m\n\u001b[0;32m-> 1685\u001b[0;31m                             \u001b[0mtmp_logs\u001b[0m \u001b[0;34m=\u001b[0m \u001b[0mself\u001b[0m\u001b[0;34m.\u001b[0m\u001b[0mtrain_function\u001b[0m\u001b[0;34m(\u001b[0m\u001b[0miterator\u001b[0m\u001b[0;34m)\u001b[0m\u001b[0;34m\u001b[0m\u001b[0;34m\u001b[0m\u001b[0m\n\u001b[0m\u001b[1;32m   1686\u001b[0m                             \u001b[0;32mif\u001b[0m \u001b[0mdata_handler\u001b[0m\u001b[0;34m.\u001b[0m\u001b[0mshould_sync\u001b[0m\u001b[0;34m:\u001b[0m\u001b[0;34m\u001b[0m\u001b[0;34m\u001b[0m\u001b[0m\n\u001b[1;32m   1687\u001b[0m                                 \u001b[0mcontext\u001b[0m\u001b[0;34m.\u001b[0m\u001b[0masync_wait\u001b[0m\u001b[0;34m(\u001b[0m\u001b[0;34m)\u001b[0m\u001b[0;34m\u001b[0m\u001b[0;34m\u001b[0m\u001b[0m\n",
            "\u001b[0;32m/usr/local/lib/python3.10/dist-packages/tensorflow/python/util/traceback_utils.py\u001b[0m in \u001b[0;36merror_handler\u001b[0;34m(*args, **kwargs)\u001b[0m\n\u001b[1;32m    148\u001b[0m     \u001b[0mfiltered_tb\u001b[0m \u001b[0;34m=\u001b[0m \u001b[0;32mNone\u001b[0m\u001b[0;34m\u001b[0m\u001b[0;34m\u001b[0m\u001b[0m\n\u001b[1;32m    149\u001b[0m     \u001b[0;32mtry\u001b[0m\u001b[0;34m:\u001b[0m\u001b[0;34m\u001b[0m\u001b[0;34m\u001b[0m\u001b[0m\n\u001b[0;32m--> 150\u001b[0;31m       \u001b[0;32mreturn\u001b[0m \u001b[0mfn\u001b[0m\u001b[0;34m(\u001b[0m\u001b[0;34m*\u001b[0m\u001b[0margs\u001b[0m\u001b[0;34m,\u001b[0m \u001b[0;34m**\u001b[0m\u001b[0mkwargs\u001b[0m\u001b[0;34m)\u001b[0m\u001b[0;34m\u001b[0m\u001b[0;34m\u001b[0m\u001b[0m\n\u001b[0m\u001b[1;32m    151\u001b[0m     \u001b[0;32mexcept\u001b[0m \u001b[0mException\u001b[0m \u001b[0;32mas\u001b[0m \u001b[0me\u001b[0m\u001b[0;34m:\u001b[0m\u001b[0;34m\u001b[0m\u001b[0;34m\u001b[0m\u001b[0m\n\u001b[1;32m    152\u001b[0m       \u001b[0mfiltered_tb\u001b[0m \u001b[0;34m=\u001b[0m \u001b[0m_process_traceback_frames\u001b[0m\u001b[0;34m(\u001b[0m\u001b[0me\u001b[0m\u001b[0;34m.\u001b[0m\u001b[0m__traceback__\u001b[0m\u001b[0;34m)\u001b[0m\u001b[0;34m\u001b[0m\u001b[0;34m\u001b[0m\u001b[0m\n",
            "\u001b[0;32m/usr/local/lib/python3.10/dist-packages/tensorflow/python/eager/polymorphic_function/polymorphic_function.py\u001b[0m in \u001b[0;36m__call__\u001b[0;34m(self, *args, **kwds)\u001b[0m\n\u001b[1;32m    892\u001b[0m \u001b[0;34m\u001b[0m\u001b[0m\n\u001b[1;32m    893\u001b[0m       \u001b[0;32mwith\u001b[0m \u001b[0mOptionalXlaContext\u001b[0m\u001b[0;34m(\u001b[0m\u001b[0mself\u001b[0m\u001b[0;34m.\u001b[0m\u001b[0m_jit_compile\u001b[0m\u001b[0;34m)\u001b[0m\u001b[0;34m:\u001b[0m\u001b[0;34m\u001b[0m\u001b[0;34m\u001b[0m\u001b[0m\n\u001b[0;32m--> 894\u001b[0;31m         \u001b[0mresult\u001b[0m \u001b[0;34m=\u001b[0m \u001b[0mself\u001b[0m\u001b[0;34m.\u001b[0m\u001b[0m_call\u001b[0m\u001b[0;34m(\u001b[0m\u001b[0;34m*\u001b[0m\u001b[0margs\u001b[0m\u001b[0;34m,\u001b[0m \u001b[0;34m**\u001b[0m\u001b[0mkwds\u001b[0m\u001b[0;34m)\u001b[0m\u001b[0;34m\u001b[0m\u001b[0;34m\u001b[0m\u001b[0m\n\u001b[0m\u001b[1;32m    895\u001b[0m \u001b[0;34m\u001b[0m\u001b[0m\n\u001b[1;32m    896\u001b[0m       \u001b[0mnew_tracing_count\u001b[0m \u001b[0;34m=\u001b[0m \u001b[0mself\u001b[0m\u001b[0;34m.\u001b[0m\u001b[0mexperimental_get_tracing_count\u001b[0m\u001b[0;34m(\u001b[0m\u001b[0;34m)\u001b[0m\u001b[0;34m\u001b[0m\u001b[0;34m\u001b[0m\u001b[0m\n",
            "\u001b[0;32m/usr/local/lib/python3.10/dist-packages/tensorflow/python/eager/polymorphic_function/polymorphic_function.py\u001b[0m in \u001b[0;36m_call\u001b[0;34m(self, *args, **kwds)\u001b[0m\n\u001b[1;32m    924\u001b[0m       \u001b[0;31m# In this case we have created variables on the first call, so we run the\u001b[0m\u001b[0;34m\u001b[0m\u001b[0;34m\u001b[0m\u001b[0m\n\u001b[1;32m    925\u001b[0m       \u001b[0;31m# defunned version which is guaranteed to never create variables.\u001b[0m\u001b[0;34m\u001b[0m\u001b[0;34m\u001b[0m\u001b[0m\n\u001b[0;32m--> 926\u001b[0;31m       \u001b[0;32mreturn\u001b[0m \u001b[0mself\u001b[0m\u001b[0;34m.\u001b[0m\u001b[0m_no_variable_creation_fn\u001b[0m\u001b[0;34m(\u001b[0m\u001b[0;34m*\u001b[0m\u001b[0margs\u001b[0m\u001b[0;34m,\u001b[0m \u001b[0;34m**\u001b[0m\u001b[0mkwds\u001b[0m\u001b[0;34m)\u001b[0m  \u001b[0;31m# pylint: disable=not-callable\u001b[0m\u001b[0;34m\u001b[0m\u001b[0;34m\u001b[0m\u001b[0m\n\u001b[0m\u001b[1;32m    927\u001b[0m     \u001b[0;32melif\u001b[0m \u001b[0mself\u001b[0m\u001b[0;34m.\u001b[0m\u001b[0m_variable_creation_fn\u001b[0m \u001b[0;32mis\u001b[0m \u001b[0;32mnot\u001b[0m \u001b[0;32mNone\u001b[0m\u001b[0;34m:\u001b[0m\u001b[0;34m\u001b[0m\u001b[0;34m\u001b[0m\u001b[0m\n\u001b[1;32m    928\u001b[0m       \u001b[0;31m# Release the lock early so that multiple threads can perform the call\u001b[0m\u001b[0;34m\u001b[0m\u001b[0;34m\u001b[0m\u001b[0m\n",
            "\u001b[0;32m/usr/local/lib/python3.10/dist-packages/tensorflow/python/eager/polymorphic_function/tracing_compiler.py\u001b[0m in \u001b[0;36m__call__\u001b[0;34m(self, *args, **kwargs)\u001b[0m\n\u001b[1;32m    141\u001b[0m       (concrete_function,\n\u001b[1;32m    142\u001b[0m        filtered_flat_args) = self._maybe_define_function(args, kwargs)\n\u001b[0;32m--> 143\u001b[0;31m     return concrete_function._call_flat(\n\u001b[0m\u001b[1;32m    144\u001b[0m         filtered_flat_args, captured_inputs=concrete_function.captured_inputs)  # pylint: disable=protected-access\n\u001b[1;32m    145\u001b[0m \u001b[0;34m\u001b[0m\u001b[0m\n",
            "\u001b[0;32m/usr/local/lib/python3.10/dist-packages/tensorflow/python/eager/polymorphic_function/monomorphic_function.py\u001b[0m in \u001b[0;36m_call_flat\u001b[0;34m(self, args, captured_inputs, cancellation_manager)\u001b[0m\n\u001b[1;32m   1755\u001b[0m         and executing_eagerly):\n\u001b[1;32m   1756\u001b[0m       \u001b[0;31m# No tape is watching; skip to running the function.\u001b[0m\u001b[0;34m\u001b[0m\u001b[0;34m\u001b[0m\u001b[0m\n\u001b[0;32m-> 1757\u001b[0;31m       return self._build_call_outputs(self._inference_function.call(\n\u001b[0m\u001b[1;32m   1758\u001b[0m           ctx, args, cancellation_manager=cancellation_manager))\n\u001b[1;32m   1759\u001b[0m     forward_backward = self._select_forward_and_backward_functions(\n",
            "\u001b[0;32m/usr/local/lib/python3.10/dist-packages/tensorflow/python/eager/polymorphic_function/monomorphic_function.py\u001b[0m in \u001b[0;36mcall\u001b[0;34m(self, ctx, args, cancellation_manager)\u001b[0m\n\u001b[1;32m    379\u001b[0m       \u001b[0;32mwith\u001b[0m \u001b[0m_InterpolateFunctionError\u001b[0m\u001b[0;34m(\u001b[0m\u001b[0mself\u001b[0m\u001b[0;34m)\u001b[0m\u001b[0;34m:\u001b[0m\u001b[0;34m\u001b[0m\u001b[0;34m\u001b[0m\u001b[0m\n\u001b[1;32m    380\u001b[0m         \u001b[0;32mif\u001b[0m \u001b[0mcancellation_manager\u001b[0m \u001b[0;32mis\u001b[0m \u001b[0;32mNone\u001b[0m\u001b[0;34m:\u001b[0m\u001b[0;34m\u001b[0m\u001b[0;34m\u001b[0m\u001b[0m\n\u001b[0;32m--> 381\u001b[0;31m           outputs = execute.execute(\n\u001b[0m\u001b[1;32m    382\u001b[0m               \u001b[0mstr\u001b[0m\u001b[0;34m(\u001b[0m\u001b[0mself\u001b[0m\u001b[0;34m.\u001b[0m\u001b[0msignature\u001b[0m\u001b[0;34m.\u001b[0m\u001b[0mname\u001b[0m\u001b[0;34m)\u001b[0m\u001b[0;34m,\u001b[0m\u001b[0;34m\u001b[0m\u001b[0;34m\u001b[0m\u001b[0m\n\u001b[1;32m    383\u001b[0m               \u001b[0mnum_outputs\u001b[0m\u001b[0;34m=\u001b[0m\u001b[0mself\u001b[0m\u001b[0;34m.\u001b[0m\u001b[0m_num_outputs\u001b[0m\u001b[0;34m,\u001b[0m\u001b[0;34m\u001b[0m\u001b[0;34m\u001b[0m\u001b[0m\n",
            "\u001b[0;32m/usr/local/lib/python3.10/dist-packages/tensorflow/python/eager/execute.py\u001b[0m in \u001b[0;36mquick_execute\u001b[0;34m(op_name, num_outputs, inputs, attrs, ctx, name)\u001b[0m\n\u001b[1;32m     50\u001b[0m   \u001b[0;32mtry\u001b[0m\u001b[0;34m:\u001b[0m\u001b[0;34m\u001b[0m\u001b[0;34m\u001b[0m\u001b[0m\n\u001b[1;32m     51\u001b[0m     \u001b[0mctx\u001b[0m\u001b[0;34m.\u001b[0m\u001b[0mensure_initialized\u001b[0m\u001b[0;34m(\u001b[0m\u001b[0;34m)\u001b[0m\u001b[0;34m\u001b[0m\u001b[0;34m\u001b[0m\u001b[0m\n\u001b[0;32m---> 52\u001b[0;31m     tensors = pywrap_tfe.TFE_Py_Execute(ctx._handle, device_name, op_name,\n\u001b[0m\u001b[1;32m     53\u001b[0m                                         inputs, attrs, num_outputs)\n\u001b[1;32m     54\u001b[0m   \u001b[0;32mexcept\u001b[0m \u001b[0mcore\u001b[0m\u001b[0;34m.\u001b[0m\u001b[0m_NotOkStatusException\u001b[0m \u001b[0;32mas\u001b[0m \u001b[0me\u001b[0m\u001b[0;34m:\u001b[0m\u001b[0;34m\u001b[0m\u001b[0;34m\u001b[0m\u001b[0m\n",
            "\u001b[0;31mKeyboardInterrupt\u001b[0m: "
          ]
        }
      ]
    },
    {
      "cell_type": "code",
      "source": [
        "imp_features"
      ],
      "metadata": {
        "colab": {
          "base_uri": "https://localhost:8080/"
        },
        "id": "yq2_tC67vvYF",
        "outputId": "2a0ea1b8-23ea-479f-ab54-f271b0e2c79b"
      },
      "execution_count": null,
      "outputs": [
        {
          "output_type": "execute_result",
          "data": {
            "text/plain": [
              "[array([15,  3,  7, 16,  2, 12, 18]),\n",
              " array([11, 15, 16,  8, 12,  2, 18]),\n",
              " array([16,  2, 15, 17,  8, 20, 11]),\n",
              " array([ 8, 20, 15, 16, 17, 21, 11]),\n",
              " array([ 8, 15, 16, 21, 20, 12, 17]),\n",
              " array([20,  8, 22, 18, 11,  6, 16]),\n",
              " array([20, 22, 11,  2, 17,  8, 18]),\n",
              " array([11,  6, 22,  5,  2, 15, 17])]"
            ]
          },
          "metadata": {},
          "execution_count": 60
        }
      ]
    },
    {
      "cell_type": "code",
      "source": [
        "feat_df=[pd.DataFrame(array) for array in imp_features]\n",
        "feature_df=pd.concat(feat_df, ignore_index=True)\n",
        "feature_df.value_counts()"
      ],
      "metadata": {
        "colab": {
          "base_uri": "https://localhost:8080/"
        },
        "id": "mcEBBAoD0t6F",
        "outputId": "bdfec436-c606-4f58-9649-2c7109e00207"
      },
      "execution_count": null,
      "outputs": [
        {
          "output_type": "execute_result",
          "data": {
            "text/plain": [
              "8     6\n",
              "11    6\n",
              "15    6\n",
              "16    6\n",
              "2     5\n",
              "17    5\n",
              "20    5\n",
              "18    4\n",
              "12    3\n",
              "22    3\n",
              "6     2\n",
              "21    2\n",
              "3     1\n",
              "5     1\n",
              "7     1\n",
              "dtype: int64"
            ]
          },
          "metadata": {},
          "execution_count": 82
        }
      ]
    },
    {
      "cell_type": "code",
      "source": [
        "feature_df.value_counts().index[3][0]"
      ],
      "metadata": {
        "colab": {
          "base_uri": "https://localhost:8080/"
        },
        "id": "uQFLIpZe6agI",
        "outputId": "624a554d-e875-4d56-b25e-c849ef6b6ec3"
      },
      "execution_count": null,
      "outputs": [
        {
          "output_type": "execute_result",
          "data": {
            "text/plain": [
              "16"
            ]
          },
          "metadata": {},
          "execution_count": 81
        }
      ]
    },
    {
      "cell_type": "code",
      "source": [
        "feature_indices=[feature_df.value_counts().index[x][0]+1 for x in range(0,8)] ## adding 1 to indices to count for Timestamp column"
      ],
      "metadata": {
        "id": "Xo8q14Kc5wFq"
      },
      "execution_count": null,
      "outputs": []
    },
    {
      "cell_type": "code",
      "source": [
        "feature_indices.insert(0,0)"
      ],
      "metadata": {
        "id": "iicyoGU-7zYO"
      },
      "execution_count": null,
      "outputs": []
    },
    {
      "cell_type": "code",
      "source": [
        "# feature_indices\n",
        "feature_indices=[0, 9, 12, 16, 17, 3, 18, 21, 19]"
      ],
      "metadata": {
        "id": "9SEVPXHT_jg8"
      },
      "execution_count": null,
      "outputs": []
    },
    {
      "cell_type": "markdown",
      "source": [],
      "metadata": {
        "id": "B0o3rQ865iP3"
      }
    },
    {
      "cell_type": "code",
      "source": [
        "datasets_features=[]\n",
        "for i, data in enumerate(datasets):\n",
        "  data=data.iloc[:,feature_indices]\n",
        "  datasets_features.append(data)"
      ],
      "metadata": {
        "id": "zDJ-KNea5bW_"
      },
      "execution_count": null,
      "outputs": []
    },
    {
      "cell_type": "code",
      "source": [
        "datasets_features[0].head(5)"
      ],
      "metadata": {
        "colab": {
          "base_uri": "https://localhost:8080/",
          "height": 206
        },
        "id": "GrdtR07W82Bo",
        "outputId": "582eb520-57d6-47f5-9227-b1db1cc6518a"
      },
      "execution_count": null,
      "outputs": [
        {
          "output_type": "execute_result",
          "data": {
            "text/plain": [
              "   Timestamp       A_3       B_4       L_4       L_5       A_1       L_6  \\\n",
              "0          0  0.323085  0.209226  0.007157  0.110387  0.268136  0.171834   \n",
              "1          1  0.289304  0.205267  0.007157  0.110387  0.400049  0.200696   \n",
              "2          2  0.257272  0.204493  0.007157  0.110387  0.399886  0.162838   \n",
              "3          3  0.279547  0.202513  0.007157  0.110387  0.398829  0.005194   \n",
              "4          4  0.258929  0.206128  0.007157  0.110387  0.400293  0.084498   \n",
              "\n",
              "        L_9       L_7  \n",
              "0  0.417784  0.409975  \n",
              "1  0.498691  0.482860  \n",
              "2  0.653605  0.646078  \n",
              "3  0.043151  0.064855  \n",
              "4  0.020465  0.027563  "
            ],
            "text/html": [
              "\n",
              "\n",
              "  <div id=\"df-0c600af2-dd22-42ba-aef7-f5e4c85e2384\">\n",
              "    <div class=\"colab-df-container\">\n",
              "      <div>\n",
              "<style scoped>\n",
              "    .dataframe tbody tr th:only-of-type {\n",
              "        vertical-align: middle;\n",
              "    }\n",
              "\n",
              "    .dataframe tbody tr th {\n",
              "        vertical-align: top;\n",
              "    }\n",
              "\n",
              "    .dataframe thead th {\n",
              "        text-align: right;\n",
              "    }\n",
              "</style>\n",
              "<table border=\"1\" class=\"dataframe\">\n",
              "  <thead>\n",
              "    <tr style=\"text-align: right;\">\n",
              "      <th></th>\n",
              "      <th>Timestamp</th>\n",
              "      <th>A_3</th>\n",
              "      <th>B_4</th>\n",
              "      <th>L_4</th>\n",
              "      <th>L_5</th>\n",
              "      <th>A_1</th>\n",
              "      <th>L_6</th>\n",
              "      <th>L_9</th>\n",
              "      <th>L_7</th>\n",
              "    </tr>\n",
              "  </thead>\n",
              "  <tbody>\n",
              "    <tr>\n",
              "      <th>0</th>\n",
              "      <td>0</td>\n",
              "      <td>0.323085</td>\n",
              "      <td>0.209226</td>\n",
              "      <td>0.007157</td>\n",
              "      <td>0.110387</td>\n",
              "      <td>0.268136</td>\n",
              "      <td>0.171834</td>\n",
              "      <td>0.417784</td>\n",
              "      <td>0.409975</td>\n",
              "    </tr>\n",
              "    <tr>\n",
              "      <th>1</th>\n",
              "      <td>1</td>\n",
              "      <td>0.289304</td>\n",
              "      <td>0.205267</td>\n",
              "      <td>0.007157</td>\n",
              "      <td>0.110387</td>\n",
              "      <td>0.400049</td>\n",
              "      <td>0.200696</td>\n",
              "      <td>0.498691</td>\n",
              "      <td>0.482860</td>\n",
              "    </tr>\n",
              "    <tr>\n",
              "      <th>2</th>\n",
              "      <td>2</td>\n",
              "      <td>0.257272</td>\n",
              "      <td>0.204493</td>\n",
              "      <td>0.007157</td>\n",
              "      <td>0.110387</td>\n",
              "      <td>0.399886</td>\n",
              "      <td>0.162838</td>\n",
              "      <td>0.653605</td>\n",
              "      <td>0.646078</td>\n",
              "    </tr>\n",
              "    <tr>\n",
              "      <th>3</th>\n",
              "      <td>3</td>\n",
              "      <td>0.279547</td>\n",
              "      <td>0.202513</td>\n",
              "      <td>0.007157</td>\n",
              "      <td>0.110387</td>\n",
              "      <td>0.398829</td>\n",
              "      <td>0.005194</td>\n",
              "      <td>0.043151</td>\n",
              "      <td>0.064855</td>\n",
              "    </tr>\n",
              "    <tr>\n",
              "      <th>4</th>\n",
              "      <td>4</td>\n",
              "      <td>0.258929</td>\n",
              "      <td>0.206128</td>\n",
              "      <td>0.007157</td>\n",
              "      <td>0.110387</td>\n",
              "      <td>0.400293</td>\n",
              "      <td>0.084498</td>\n",
              "      <td>0.020465</td>\n",
              "      <td>0.027563</td>\n",
              "    </tr>\n",
              "  </tbody>\n",
              "</table>\n",
              "</div>\n",
              "      <button class=\"colab-df-convert\" onclick=\"convertToInteractive('df-0c600af2-dd22-42ba-aef7-f5e4c85e2384')\"\n",
              "              title=\"Convert this dataframe to an interactive table.\"\n",
              "              style=\"display:none;\">\n",
              "\n",
              "  <svg xmlns=\"http://www.w3.org/2000/svg\" height=\"24px\"viewBox=\"0 0 24 24\"\n",
              "       width=\"24px\">\n",
              "    <path d=\"M0 0h24v24H0V0z\" fill=\"none\"/>\n",
              "    <path d=\"M18.56 5.44l.94 2.06.94-2.06 2.06-.94-2.06-.94-.94-2.06-.94 2.06-2.06.94zm-11 1L8.5 8.5l.94-2.06 2.06-.94-2.06-.94L8.5 2.5l-.94 2.06-2.06.94zm10 10l.94 2.06.94-2.06 2.06-.94-2.06-.94-.94-2.06-.94 2.06-2.06.94z\"/><path d=\"M17.41 7.96l-1.37-1.37c-.4-.4-.92-.59-1.43-.59-.52 0-1.04.2-1.43.59L10.3 9.45l-7.72 7.72c-.78.78-.78 2.05 0 2.83L4 21.41c.39.39.9.59 1.41.59.51 0 1.02-.2 1.41-.59l7.78-7.78 2.81-2.81c.8-.78.8-2.07 0-2.86zM5.41 20L4 18.59l7.72-7.72 1.47 1.35L5.41 20z\"/>\n",
              "  </svg>\n",
              "      </button>\n",
              "\n",
              "\n",
              "\n",
              "    <div id=\"df-76624ec2-d32b-4124-b403-9a27a6ca6f41\">\n",
              "      <button class=\"colab-df-quickchart\" onclick=\"quickchart('df-76624ec2-d32b-4124-b403-9a27a6ca6f41')\"\n",
              "              title=\"Suggest charts.\"\n",
              "              style=\"display:none;\">\n",
              "\n",
              "<svg xmlns=\"http://www.w3.org/2000/svg\" height=\"24px\"viewBox=\"0 0 24 24\"\n",
              "     width=\"24px\">\n",
              "    <g>\n",
              "        <path d=\"M19 3H5c-1.1 0-2 .9-2 2v14c0 1.1.9 2 2 2h14c1.1 0 2-.9 2-2V5c0-1.1-.9-2-2-2zM9 17H7v-7h2v7zm4 0h-2V7h2v10zm4 0h-2v-4h2v4z\"/>\n",
              "    </g>\n",
              "</svg>\n",
              "      </button>\n",
              "    </div>\n",
              "\n",
              "<style>\n",
              "  .colab-df-quickchart {\n",
              "    background-color: #E8F0FE;\n",
              "    border: none;\n",
              "    border-radius: 50%;\n",
              "    cursor: pointer;\n",
              "    display: none;\n",
              "    fill: #1967D2;\n",
              "    height: 32px;\n",
              "    padding: 0 0 0 0;\n",
              "    width: 32px;\n",
              "  }\n",
              "\n",
              "  .colab-df-quickchart:hover {\n",
              "    background-color: #E2EBFA;\n",
              "    box-shadow: 0px 1px 2px rgba(60, 64, 67, 0.3), 0px 1px 3px 1px rgba(60, 64, 67, 0.15);\n",
              "    fill: #174EA6;\n",
              "  }\n",
              "\n",
              "  [theme=dark] .colab-df-quickchart {\n",
              "    background-color: #3B4455;\n",
              "    fill: #D2E3FC;\n",
              "  }\n",
              "\n",
              "  [theme=dark] .colab-df-quickchart:hover {\n",
              "    background-color: #434B5C;\n",
              "    box-shadow: 0px 1px 3px 1px rgba(0, 0, 0, 0.15);\n",
              "    filter: drop-shadow(0px 1px 2px rgba(0, 0, 0, 0.3));\n",
              "    fill: #FFFFFF;\n",
              "  }\n",
              "</style>\n",
              "\n",
              "    <script>\n",
              "      async function quickchart(key) {\n",
              "        const containerElement = document.querySelector('#' + key);\n",
              "        const charts = await google.colab.kernel.invokeFunction(\n",
              "            'suggestCharts', [key], {});\n",
              "      }\n",
              "    </script>\n",
              "\n",
              "      <script>\n",
              "\n",
              "function displayQuickchartButton(domScope) {\n",
              "  let quickchartButtonEl =\n",
              "    domScope.querySelector('#df-76624ec2-d32b-4124-b403-9a27a6ca6f41 button.colab-df-quickchart');\n",
              "  quickchartButtonEl.style.display =\n",
              "    google.colab.kernel.accessAllowed ? 'block' : 'none';\n",
              "}\n",
              "\n",
              "        displayQuickchartButton(document);\n",
              "      </script>\n",
              "      <style>\n",
              "    .colab-df-container {\n",
              "      display:flex;\n",
              "      flex-wrap:wrap;\n",
              "      gap: 12px;\n",
              "    }\n",
              "\n",
              "    .colab-df-convert {\n",
              "      background-color: #E8F0FE;\n",
              "      border: none;\n",
              "      border-radius: 50%;\n",
              "      cursor: pointer;\n",
              "      display: none;\n",
              "      fill: #1967D2;\n",
              "      height: 32px;\n",
              "      padding: 0 0 0 0;\n",
              "      width: 32px;\n",
              "    }\n",
              "\n",
              "    .colab-df-convert:hover {\n",
              "      background-color: #E2EBFA;\n",
              "      box-shadow: 0px 1px 2px rgba(60, 64, 67, 0.3), 0px 1px 3px 1px rgba(60, 64, 67, 0.15);\n",
              "      fill: #174EA6;\n",
              "    }\n",
              "\n",
              "    [theme=dark] .colab-df-convert {\n",
              "      background-color: #3B4455;\n",
              "      fill: #D2E3FC;\n",
              "    }\n",
              "\n",
              "    [theme=dark] .colab-df-convert:hover {\n",
              "      background-color: #434B5C;\n",
              "      box-shadow: 0px 1px 3px 1px rgba(0, 0, 0, 0.15);\n",
              "      filter: drop-shadow(0px 1px 2px rgba(0, 0, 0, 0.3));\n",
              "      fill: #FFFFFF;\n",
              "    }\n",
              "  </style>\n",
              "\n",
              "      <script>\n",
              "        const buttonEl =\n",
              "          document.querySelector('#df-0c600af2-dd22-42ba-aef7-f5e4c85e2384 button.colab-df-convert');\n",
              "        buttonEl.style.display =\n",
              "          google.colab.kernel.accessAllowed ? 'block' : 'none';\n",
              "\n",
              "        async function convertToInteractive(key) {\n",
              "          const element = document.querySelector('#df-0c600af2-dd22-42ba-aef7-f5e4c85e2384');\n",
              "          const dataTable =\n",
              "            await google.colab.kernel.invokeFunction('convertToInteractive',\n",
              "                                                     [key], {});\n",
              "          if (!dataTable) return;\n",
              "\n",
              "          const docLinkHtml = 'Like what you see? Visit the ' +\n",
              "            '<a target=\"_blank\" href=https://colab.research.google.com/notebooks/data_table.ipynb>data table notebook</a>'\n",
              "            + ' to learn more about interactive tables.';\n",
              "          element.innerHTML = '';\n",
              "          dataTable['output_type'] = 'display_data';\n",
              "          await google.colab.output.renderOutput(dataTable, element);\n",
              "          const docLink = document.createElement('div');\n",
              "          docLink.innerHTML = docLinkHtml;\n",
              "          element.appendChild(docLink);\n",
              "        }\n",
              "      </script>\n",
              "    </div>\n",
              "  </div>\n"
            ]
          },
          "metadata": {},
          "execution_count": 20
        }
      ]
    },
    {
      "cell_type": "code",
      "source": [
        "from minisom import MiniSom\n",
        "import numpy as np\n",
        "\n",
        "# Assuming you have 8 data sets in a list named 'data_sets'\n",
        "# Each data set is represented as a numpy array with 8 features\n",
        "# and the component condition label\n",
        "\n",
        "# Define the grid size for the SOM\n",
        "grid_size = (50, 50)  # You can adjust this based on your data and requirements\n",
        "\n",
        "\n",
        "# Iterate over each data set and use it as the target for prediction\n",
        "for i, data_set in enumerate(datasets_features):\n",
        "  if i==0:\n",
        "    # print(data_set.head(5))\n",
        "    # print(data_set.head(5))\n",
        "    # print(data_set.iloc[:int(0.2 * len(data_set)),1:])\n",
        "    # Create a training data set by combining all other data sets\n",
        "    # except the current data set being used as the target\n",
        "    training_data = np.vstack([data.iloc[:int(0.30 * len(data)),1:] for j, data in enumerate(datasets_features) if j != i])\n",
        "    print(len(training_data))\n",
        "    # Train the SOM model on the training data\n",
        "    # Initialize the SOM model\n",
        "    som = MiniSom(grid_size[0], grid_size[1], 8)\n",
        "    # som.random_weights_init(training_data)\n",
        "    som.train_random(training_data, 100)  # You can adjust the number of iterations (epochs) as needed\n",
        "\n",
        "    # ((((((((Get the quantization error for the training data set\n",
        "    print(len(data_set))\n",
        "    # Create a list to store the quantization errors for each data set\n",
        "    quantization_errors = []\n",
        "    for k in range((len(training_data))):\n",
        "      # print(k)\n",
        "    #print(train_new_condition_scaled[i])\n",
        "      data_point=training_data[k:k+1]\n",
        "      # print(data_point)\n",
        "      #som.quantization_error(data_point)\n",
        "    # Append the quantization error to the list\n",
        "      quantization_errors.append(som.quantization_error(data_point))##))))))))\n",
        "\n",
        "    # Calculate the threshold for anomaly detection using quantiles\n",
        "    threshold = np.quantile(quantization_errors, 0.9999)  # You can adjust the quantile value as needed\n",
        "\n",
        "    # Print the threshold value\n",
        "    print(\"Threshold for anomaly detection:\", threshold)\n",
        "\n",
        "    qerror=[]\n",
        "    for f in range(len(data_set)):\n",
        "      q_error=som.quantization_error(data_set.iloc[f:f+1,1:].values)\n",
        "      qerror.append(q_error)\n",
        "      # print(q_error)\n",
        "      if q_error>threshold:\n",
        "       print('anomaly detected at Timestamp', f)\n",
        "    plt.bar(data_set.Timestamp, qerror)\n",
        "\n",
        "# Now you can use the threshold to detect anomalies in the data sets\n",
        "# For example, you can iterate over the quantization_errors list and\n",
        "# check if the quantization error for each data set is greater than the threshold\n",
        "# If it is, then the data set is considered as an anomaly\n"
      ],
      "metadata": {
        "id": "N_sNMwl2XbG4"
      },
      "execution_count": null,
      "outputs": []
    },
    {
      "cell_type": "code",
      "source": [
        "for i,data in enumerate(datasets):\n",
        "  print(data.shape)"
      ],
      "metadata": {
        "colab": {
          "base_uri": "https://localhost:8080/"
        },
        "id": "rPdOeTJxS08f",
        "outputId": "9087d371-9825-456c-c478-832f16369481"
      },
      "execution_count": null,
      "outputs": [
        {
          "output_type": "stream",
          "name": "stdout",
          "text": [
            "(18429, 26)\n",
            "(23670, 26)\n",
            "(32848, 26)\n",
            "(30737, 26)\n",
            "(21021, 26)\n",
            "(51671, 26)\n",
            "(15803, 26)\n",
            "(34245, 26)\n"
          ]
        }
      ]
    },
    {
      "cell_type": "markdown",
      "source": [
        "A, B and C represents one component each, as you said. L represent the other 5 components. 1+2, 3+6, 4+5, 7+8 and 9+10."
      ],
      "metadata": {
        "id": "Jh6rYM-DPBpV"
      }
    },
    {
      "cell_type": "markdown",
      "source": [
        "Only using L1 and L2 component"
      ],
      "metadata": {
        "id": "mO5kD8uNPCeM"
      }
    },
    {
      "cell_type": "code",
      "source": [
        "datasets_L12=[]\n",
        "for i,data in enumerate(datasets):\n",
        "  data=data.loc[:,['Timestamp','L_1','L_2']]\n",
        "  datasets_L12.append(data)"
      ],
      "metadata": {
        "id": "7n4SKTFaPG5e"
      },
      "execution_count": null,
      "outputs": []
    },
    {
      "cell_type": "code",
      "source": [
        "datasets_L12[0].head(5)"
      ],
      "metadata": {
        "colab": {
          "base_uri": "https://localhost:8080/",
          "height": 206
        },
        "id": "uI1pH_pnPrcp",
        "outputId": "157db9d2-2884-44b2-9873-60cfcdc423c6"
      },
      "execution_count": null,
      "outputs": [
        {
          "output_type": "execute_result",
          "data": {
            "text/plain": [
              "   Timestamp       L_1       L_2\n",
              "0          0  0.425582  0.368012\n",
              "1          1  0.509200  0.472050\n",
              "2          2  0.670086  0.442236\n",
              "3          3  0.050073  0.144928\n",
              "4          4  0.022553  0.259731"
            ],
            "text/html": [
              "\n",
              "\n",
              "  <div id=\"df-c15e3557-09d9-4ba3-b38f-e96e6e4db7ba\">\n",
              "    <div class=\"colab-df-container\">\n",
              "      <div>\n",
              "<style scoped>\n",
              "    .dataframe tbody tr th:only-of-type {\n",
              "        vertical-align: middle;\n",
              "    }\n",
              "\n",
              "    .dataframe tbody tr th {\n",
              "        vertical-align: top;\n",
              "    }\n",
              "\n",
              "    .dataframe thead th {\n",
              "        text-align: right;\n",
              "    }\n",
              "</style>\n",
              "<table border=\"1\" class=\"dataframe\">\n",
              "  <thead>\n",
              "    <tr style=\"text-align: right;\">\n",
              "      <th></th>\n",
              "      <th>Timestamp</th>\n",
              "      <th>L_1</th>\n",
              "      <th>L_2</th>\n",
              "    </tr>\n",
              "  </thead>\n",
              "  <tbody>\n",
              "    <tr>\n",
              "      <th>0</th>\n",
              "      <td>0</td>\n",
              "      <td>0.425582</td>\n",
              "      <td>0.368012</td>\n",
              "    </tr>\n",
              "    <tr>\n",
              "      <th>1</th>\n",
              "      <td>1</td>\n",
              "      <td>0.509200</td>\n",
              "      <td>0.472050</td>\n",
              "    </tr>\n",
              "    <tr>\n",
              "      <th>2</th>\n",
              "      <td>2</td>\n",
              "      <td>0.670086</td>\n",
              "      <td>0.442236</td>\n",
              "    </tr>\n",
              "    <tr>\n",
              "      <th>3</th>\n",
              "      <td>3</td>\n",
              "      <td>0.050073</td>\n",
              "      <td>0.144928</td>\n",
              "    </tr>\n",
              "    <tr>\n",
              "      <th>4</th>\n",
              "      <td>4</td>\n",
              "      <td>0.022553</td>\n",
              "      <td>0.259731</td>\n",
              "    </tr>\n",
              "  </tbody>\n",
              "</table>\n",
              "</div>\n",
              "      <button class=\"colab-df-convert\" onclick=\"convertToInteractive('df-c15e3557-09d9-4ba3-b38f-e96e6e4db7ba')\"\n",
              "              title=\"Convert this dataframe to an interactive table.\"\n",
              "              style=\"display:none;\">\n",
              "\n",
              "  <svg xmlns=\"http://www.w3.org/2000/svg\" height=\"24px\"viewBox=\"0 0 24 24\"\n",
              "       width=\"24px\">\n",
              "    <path d=\"M0 0h24v24H0V0z\" fill=\"none\"/>\n",
              "    <path d=\"M18.56 5.44l.94 2.06.94-2.06 2.06-.94-2.06-.94-.94-2.06-.94 2.06-2.06.94zm-11 1L8.5 8.5l.94-2.06 2.06-.94-2.06-.94L8.5 2.5l-.94 2.06-2.06.94zm10 10l.94 2.06.94-2.06 2.06-.94-2.06-.94-.94-2.06-.94 2.06-2.06.94z\"/><path d=\"M17.41 7.96l-1.37-1.37c-.4-.4-.92-.59-1.43-.59-.52 0-1.04.2-1.43.59L10.3 9.45l-7.72 7.72c-.78.78-.78 2.05 0 2.83L4 21.41c.39.39.9.59 1.41.59.51 0 1.02-.2 1.41-.59l7.78-7.78 2.81-2.81c.8-.78.8-2.07 0-2.86zM5.41 20L4 18.59l7.72-7.72 1.47 1.35L5.41 20z\"/>\n",
              "  </svg>\n",
              "      </button>\n",
              "\n",
              "\n",
              "\n",
              "    <div id=\"df-45c8f04b-9b1b-48ce-bbcf-0a6772e3ae25\">\n",
              "      <button class=\"colab-df-quickchart\" onclick=\"quickchart('df-45c8f04b-9b1b-48ce-bbcf-0a6772e3ae25')\"\n",
              "              title=\"Suggest charts.\"\n",
              "              style=\"display:none;\">\n",
              "\n",
              "<svg xmlns=\"http://www.w3.org/2000/svg\" height=\"24px\"viewBox=\"0 0 24 24\"\n",
              "     width=\"24px\">\n",
              "    <g>\n",
              "        <path d=\"M19 3H5c-1.1 0-2 .9-2 2v14c0 1.1.9 2 2 2h14c1.1 0 2-.9 2-2V5c0-1.1-.9-2-2-2zM9 17H7v-7h2v7zm4 0h-2V7h2v10zm4 0h-2v-4h2v4z\"/>\n",
              "    </g>\n",
              "</svg>\n",
              "      </button>\n",
              "    </div>\n",
              "\n",
              "<style>\n",
              "  .colab-df-quickchart {\n",
              "    background-color: #E8F0FE;\n",
              "    border: none;\n",
              "    border-radius: 50%;\n",
              "    cursor: pointer;\n",
              "    display: none;\n",
              "    fill: #1967D2;\n",
              "    height: 32px;\n",
              "    padding: 0 0 0 0;\n",
              "    width: 32px;\n",
              "  }\n",
              "\n",
              "  .colab-df-quickchart:hover {\n",
              "    background-color: #E2EBFA;\n",
              "    box-shadow: 0px 1px 2px rgba(60, 64, 67, 0.3), 0px 1px 3px 1px rgba(60, 64, 67, 0.15);\n",
              "    fill: #174EA6;\n",
              "  }\n",
              "\n",
              "  [theme=dark] .colab-df-quickchart {\n",
              "    background-color: #3B4455;\n",
              "    fill: #D2E3FC;\n",
              "  }\n",
              "\n",
              "  [theme=dark] .colab-df-quickchart:hover {\n",
              "    background-color: #434B5C;\n",
              "    box-shadow: 0px 1px 3px 1px rgba(0, 0, 0, 0.15);\n",
              "    filter: drop-shadow(0px 1px 2px rgba(0, 0, 0, 0.3));\n",
              "    fill: #FFFFFF;\n",
              "  }\n",
              "</style>\n",
              "\n",
              "    <script>\n",
              "      async function quickchart(key) {\n",
              "        const containerElement = document.querySelector('#' + key);\n",
              "        const charts = await google.colab.kernel.invokeFunction(\n",
              "            'suggestCharts', [key], {});\n",
              "      }\n",
              "    </script>\n",
              "\n",
              "      <script>\n",
              "\n",
              "function displayQuickchartButton(domScope) {\n",
              "  let quickchartButtonEl =\n",
              "    domScope.querySelector('#df-45c8f04b-9b1b-48ce-bbcf-0a6772e3ae25 button.colab-df-quickchart');\n",
              "  quickchartButtonEl.style.display =\n",
              "    google.colab.kernel.accessAllowed ? 'block' : 'none';\n",
              "}\n",
              "\n",
              "        displayQuickchartButton(document);\n",
              "      </script>\n",
              "      <style>\n",
              "    .colab-df-container {\n",
              "      display:flex;\n",
              "      flex-wrap:wrap;\n",
              "      gap: 12px;\n",
              "    }\n",
              "\n",
              "    .colab-df-convert {\n",
              "      background-color: #E8F0FE;\n",
              "      border: none;\n",
              "      border-radius: 50%;\n",
              "      cursor: pointer;\n",
              "      display: none;\n",
              "      fill: #1967D2;\n",
              "      height: 32px;\n",
              "      padding: 0 0 0 0;\n",
              "      width: 32px;\n",
              "    }\n",
              "\n",
              "    .colab-df-convert:hover {\n",
              "      background-color: #E2EBFA;\n",
              "      box-shadow: 0px 1px 2px rgba(60, 64, 67, 0.3), 0px 1px 3px 1px rgba(60, 64, 67, 0.15);\n",
              "      fill: #174EA6;\n",
              "    }\n",
              "\n",
              "    [theme=dark] .colab-df-convert {\n",
              "      background-color: #3B4455;\n",
              "      fill: #D2E3FC;\n",
              "    }\n",
              "\n",
              "    [theme=dark] .colab-df-convert:hover {\n",
              "      background-color: #434B5C;\n",
              "      box-shadow: 0px 1px 3px 1px rgba(0, 0, 0, 0.15);\n",
              "      filter: drop-shadow(0px 1px 2px rgba(0, 0, 0, 0.3));\n",
              "      fill: #FFFFFF;\n",
              "    }\n",
              "  </style>\n",
              "\n",
              "      <script>\n",
              "        const buttonEl =\n",
              "          document.querySelector('#df-c15e3557-09d9-4ba3-b38f-e96e6e4db7ba button.colab-df-convert');\n",
              "        buttonEl.style.display =\n",
              "          google.colab.kernel.accessAllowed ? 'block' : 'none';\n",
              "\n",
              "        async function convertToInteractive(key) {\n",
              "          const element = document.querySelector('#df-c15e3557-09d9-4ba3-b38f-e96e6e4db7ba');\n",
              "          const dataTable =\n",
              "            await google.colab.kernel.invokeFunction('convertToInteractive',\n",
              "                                                     [key], {});\n",
              "          if (!dataTable) return;\n",
              "\n",
              "          const docLinkHtml = 'Like what you see? Visit the ' +\n",
              "            '<a target=\"_blank\" href=https://colab.research.google.com/notebooks/data_table.ipynb>data table notebook</a>'\n",
              "            + ' to learn more about interactive tables.';\n",
              "          element.innerHTML = '';\n",
              "          dataTable['output_type'] = 'display_data';\n",
              "          await google.colab.output.renderOutput(dataTable, element);\n",
              "          const docLink = document.createElement('div');\n",
              "          docLink.innerHTML = docLinkHtml;\n",
              "          element.appendChild(docLink);\n",
              "        }\n",
              "      </script>\n",
              "    </div>\n",
              "  </div>\n"
            ]
          },
          "metadata": {},
          "execution_count": 24
        }
      ]
    },
    {
      "cell_type": "code",
      "source": [
        "from minisom import MiniSom\n",
        "import numpy as np\n",
        "\n",
        "# Assuming you have 8 data sets in a list named 'data_sets'\n",
        "# Each data set is represented as a numpy array with 8 features\n",
        "# and the component condition label\n",
        "\n",
        "# Define the grid size for the SOM\n",
        "grid_size = (50, 50)  # You can adjust this based on your data and requirements\n",
        "\n",
        "\n",
        "# Iterate over each data set and use it as the target for prediction\n",
        "for i, data_set in enumerate(datasets_L12):\n",
        "  if i==1:\n",
        "    # print(data_set.head(5))\n",
        "    # print(data_set.head(5))\n",
        "    # print(data_set.iloc[:int(0.2 * len(data_set)),1:])\n",
        "    # Create a training data set by combining all other data sets\n",
        "    # except the current data set being used as the target\n",
        "    training_data = np.vstack([data.iloc[:int(0.05 * len(data)),1:] for j, data in enumerate(datasets_L12) if j != i])\n",
        "    print(len(training_data))\n",
        "    # Train the SOM model on the training data\n",
        "    # Initialize the SOM model\n",
        "    som = MiniSom(grid_size[0], grid_size[1], 2)\n",
        "    # som.random_weights_init(training_data)\n",
        "    som.train(training_data, 100)  # You can adjust the number of iterations (epochs) as needed\n",
        "\n",
        "    # ((((((((Get the quantization error for the training data set\n",
        "    print(len(data_set))\n",
        "    # Create a list to store the quantization errors for each data set\n",
        "    quantization_errors = []\n",
        "    for k in range((len(training_data))):\n",
        "      # print(k)\n",
        "    #print(train_new_condition_scaled[i])\n",
        "      data_point=training_data[k:k+1]\n",
        "      # print(data_point)\n",
        "      #som.quantization_error(data_point)\n",
        "    # Append the quantization error to the list\n",
        "      quantization_errors.append(som.quantization_error(data_point))##))))))))\n",
        "\n",
        "    # Calculate the threshold for anomaly detection using quantiles\n",
        "    threshold = np.quantile(quantization_errors, 0.9999)  # You can adjust the quantile value as needed\n",
        "\n",
        "    # Print the threshold value\n",
        "    print(\"Threshold for anomaly detection:\", threshold)\n",
        "\n",
        "    qerror=[]\n",
        "    for f in range(len(data_set)):\n",
        "      q_error=som.quantization_error(data_set.iloc[f:f+1,1:].values)\n",
        "      qerror.append(q_error)\n",
        "      # print(q_error)\n",
        "      if q_error>threshold:\n",
        "        print(q_error)\n",
        "        print('anomaly detected at Timestamp', f)\n",
        "    plt.plot(list(range(data_set.shape[0])), qerror)\n",
        "\n",
        "# Now you can use the threshold to detect anomalies in the data sets\n",
        "# For example, you can iterate over the quantization_errors list and\n",
        "# check if the quantization error for each data set is greater than the threshold\n",
        "# If it is, then the data set is considered as an anomaly\n"
      ],
      "metadata": {
        "colab": {
          "base_uri": "https://localhost:8080/",
          "height": 519
        },
        "id": "b0xVPYCWP0Pq",
        "outputId": "84b38725-c065-4c14-b648-401fad913a7c"
      },
      "execution_count": null,
      "outputs": [
        {
          "output_type": "stream",
          "name": "stdout",
          "text": [
            "10235\n",
            "23670\n",
            "Threshold for anomaly detection: 0.2742359834513853\n",
            "0.28397503286955816\n",
            "anomaly detected at Timestamp 1\n"
          ]
        },
        {
          "output_type": "display_data",
          "data": {
            "text/plain": [
              "<Figure size 640x480 with 1 Axes>"
            ],
            "image/png": "[encoded data removed]"
          },
          "metadata": {}
        }
      ]
    },
    {
      "cell_type": "code",
      "source": [
        "from minisom import MiniSom\n",
        "import numpy as np\n",
        "\n",
        "for i, data in enumerate(datasets_L12):\n",
        "  if i==2:\n",
        "    training_data=data.iloc[:int(data.shape[0]*0.2),1:].values\n",
        "    grid_size=[50,50]\n",
        "    n_feat=2\n",
        "    som=MiniSom(x=grid_size[0], y=grid_size[1], input_len=n_feat, learning_rate=0.5, sigma=1)\n",
        "    som.train_random(training_data,num_iteration=100)\n",
        "\n",
        "    qerror_train=[]\n",
        "    for i in range(len(training_data)):\n",
        "      qerror_train.append(som.quantization_error(training_data[i:i+1]))\n",
        "\n",
        "    threshold=np.quantile(sorted(qerror_train), 0.9999)\n",
        "    print('threshold for anomaly detection :', threshold)\n",
        "\n",
        "    qerror_test=[]\n",
        "    for j in range(data.shape[0]):\n",
        "      q_err=som.quantization_error(data.iloc[j:j+1,1:].values)\n",
        "      qerror_test.append(q_err)\n",
        "      if q_err>threshold:\n",
        "        print('anomaly detected at timestamp:',j)\n",
        "    plt.plot(list(range(data.shape[0])), qerror_test)\n"
      ],
      "metadata": {
        "id": "iImtebRdZcdF"
      },
      "execution_count": null,
      "outputs": []
    },
    {
      "cell_type": "code",
      "source": [
        "x=range(data.shape[0])"
      ],
      "metadata": {
        "id": "5XDid2jjcgcf"
      },
      "execution_count": null,
      "outputs": []
    },
    {
      "cell_type": "code",
      "source": [
        "x"
      ],
      "metadata": {
        "colab": {
          "base_uri": "https://localhost:8080/"
        },
        "id": "M3j6aLkOcjTe",
        "outputId": "4accf408-a9f2-4fd2-ebfc-f6be370556f2"
      },
      "execution_count": null,
      "outputs": [
        {
          "output_type": "execute_result",
          "data": {
            "text/plain": [
              "range(0, 34245)"
            ]
          },
          "metadata": {},
          "execution_count": 37
        }
      ]
    },
    {
      "cell_type": "markdown",
      "source": [
        "autoencoder"
      ],
      "metadata": {
        "id": "s-8ziHn_2-Qt"
      }
    },
    {
      "cell_type": "code",
      "source": [
        "#which component to use\n",
        "#A, B and C represents one component each, as you said. L represent the other 5 components. 1+2, 3+6, 4+5, 7+8 and 9+10.\n",
        "datasets_L12=[]\n",
        "for i,data in enumerate(datasets):\n",
        "  data=data.loc[:,['Timestamp','L_1','L_2','L_3','L_6']]\n",
        "  datasets_L12.append(data)"
      ],
      "metadata": {
        "id": "vQtEMTN6GD7k"
      },
      "execution_count": null,
      "outputs": []
    },
    {
      "cell_type": "code",
      "source": [
        "from keras.models import Model\n",
        "from keras.layers import Input, Dense\n",
        "\n",
        "\n",
        "# Define the Autoencoder architecture\n",
        "input_dim = 4  # Number of input features\n",
        "encoding_dim = 6  # Number of neurons in the encoder layers\n",
        "\n",
        "input_layer = Input(shape=(input_dim,))\n",
        "encoded = Dense(encoding_dim, activation='relu')(input_layer)\n",
        "decoded = Dense(input_dim, activation='sigmoid')(encoded)\n",
        "\n",
        "autoencoder = Model(input_layer, decoded)\n"
      ],
      "metadata": {
        "id": "GKp6yDIVd9Ge"
      },
      "execution_count": null,
      "outputs": []
    },
    {
      "cell_type": "code",
      "source": [
        "\n",
        "autoencoder = Model(input_layer, decoded)\n",
        "for i, data_set in enumerate(datasets_L12):\n",
        "  if i==0:\n",
        "    training_data = np.vstack([data.iloc[:int(0.05 * len(data)),1:] for k,data in enumerate(datasets_L12)])\n",
        "    print(len(training_data))\n",
        "    # Compile and train the Autoencoder\n",
        "    autoencoder.compile(optimizer='adam', loss='mean_squared_error')\n",
        "    autoencoder.fit(training_data, training_data, epochs=50, batch_size=32)\n",
        "\n",
        "    # Calculate reconstruction errors for train_data\n",
        "    reconstructed_data = autoencoder.predict(training_data)\n",
        "    reconstruction_errors = np.mean(np.square(training_data - reconstructed_data), axis=1)\n",
        "\n",
        "    # # Set a threshold for anomaly detection (e.g., 95th percentile)\n",
        "    # threshold = np.percentile(reconstruction_errors, 99.98)\n",
        "    # print('threshold for anomaly detection:', threshold)\n",
        "\n",
        "    # # Detect anomalies in new_data\n",
        "    # new_data_reconstructed = autoencoder.predict(data_set.iloc[:,1:].values)\n",
        "    # new_data_errors = np.mean(np.square(data_set.iloc[:,1:].values - new_data_reconstructed), axis=1)\n",
        "    # print(len(new_data_errors)==data_set.shape[0])\n",
        "    # print(data_set.shape[0])\n",
        "    # for j in range(len(new_data_errors)):\n",
        "    #   if new_data_errors[j] > threshold:\n",
        "    #     print('anomaly detected at Timestamp:', j, new_data_errors[j])\n"
      ],
      "metadata": {
        "colab": {
          "base_uri": "https://localhost:8080/"
        },
        "id": "QGNLR_HjTuxe",
        "outputId": "423daf17-df78-4651-916d-01bedc062b75"
      },
      "execution_count": null,
      "outputs": [
        {
          "output_type": "stream",
          "name": "stdout",
          "text": [
            "11418\n",
            "Epoch 1/50\n",
            "357/357 [==============================] - 1s 1ms/step - loss: 0.1143\n",
            "Epoch 2/50\n",
            "357/357 [==============================] - 0s 1ms/step - loss: 0.0438\n",
            "Epoch 3/50\n",
            "357/357 [==============================] - 0s 1ms/step - loss: 0.0245\n",
            "Epoch 4/50\n",
            "357/357 [==============================] - 0s 1ms/step - loss: 0.0188\n",
            "Epoch 5/50\n",
            "357/357 [==============================] - 0s 1ms/step - loss: 0.0158\n",
            "Epoch 6/50\n",
            "357/357 [==============================] - 0s 1ms/step - loss: 0.0132\n",
            "Epoch 7/50\n",
            "357/357 [==============================] - 0s 1ms/step - loss: 0.0107\n",
            "Epoch 8/50\n",
            "357/357 [==============================] - 0s 1ms/step - loss: 0.0085\n",
            "Epoch 9/50\n",
            "357/357 [==============================] - 0s 1ms/step - loss: 0.0067\n",
            "Epoch 10/50\n",
            "357/357 [==============================] - 0s 1ms/step - loss: 0.0053\n",
            "Epoch 11/50\n",
            "357/357 [==============================] - 0s 1ms/step - loss: 0.0043\n",
            "Epoch 12/50\n",
            "357/357 [==============================] - 0s 1ms/step - loss: 0.0035\n",
            "Epoch 13/50\n",
            "357/357 [==============================] - 0s 1ms/step - loss: 0.0029\n",
            "Epoch 14/50\n",
            "357/357 [==============================] - 1s 2ms/step - loss: 0.0025\n",
            "Epoch 15/50\n",
            "357/357 [==============================] - 1s 2ms/step - loss: 0.0021\n",
            "Epoch 16/50\n",
            "357/357 [==============================] - 1s 2ms/step - loss: 0.0019\n",
            "Epoch 17/50\n",
            "357/357 [==============================] - 1s 2ms/step - loss: 0.0016\n",
            "Epoch 18/50\n",
            "357/357 [==============================] - 1s 2ms/step - loss: 0.0013\n",
            "Epoch 19/50\n",
            "357/357 [==============================] - 0s 1ms/step - loss: 0.0011\n",
            "Epoch 20/50\n",
            "357/357 [==============================] - 0s 1ms/step - loss: 8.6903e-04\n",
            "Epoch 21/50\n",
            "357/357 [==============================] - 0s 1ms/step - loss: 7.2837e-04\n",
            "Epoch 22/50\n",
            "357/357 [==============================] - 0s 1ms/step - loss: 6.3445e-04\n",
            "Epoch 23/50\n",
            "357/357 [==============================] - 0s 1ms/step - loss: 5.7205e-04\n",
            "Epoch 24/50\n",
            "357/357 [==============================] - 0s 1ms/step - loss: 5.2716e-04\n",
            "Epoch 25/50\n",
            "357/357 [==============================] - 0s 1ms/step - loss: 4.9345e-04\n",
            "Epoch 26/50\n",
            "357/357 [==============================] - 0s 1ms/step - loss: 4.6497e-04\n",
            "Epoch 27/50\n",
            "357/357 [==============================] - 0s 1ms/step - loss: 4.4209e-04\n",
            "Epoch 28/50\n",
            "357/357 [==============================] - 0s 1ms/step - loss: 4.2270e-04\n",
            "Epoch 29/50\n",
            "357/357 [==============================] - 0s 1ms/step - loss: 4.0839e-04\n",
            "Epoch 30/50\n",
            "357/357 [==============================] - 0s 1ms/step - loss: 3.9753e-04\n",
            "Epoch 31/50\n",
            "357/357 [==============================] - 0s 1ms/step - loss: 3.8972e-04\n",
            "Epoch 32/50\n",
            "357/357 [==============================] - 0s 1ms/step - loss: 3.8289e-04\n",
            "Epoch 33/50\n",
            "357/357 [==============================] - 0s 1ms/step - loss: 3.7835e-04\n",
            "Epoch 34/50\n",
            "357/357 [==============================] - 0s 1ms/step - loss: 3.7488e-04\n",
            "Epoch 35/50\n",
            "357/357 [==============================] - 0s 1ms/step - loss: 3.7167e-04\n",
            "Epoch 36/50\n",
            "357/357 [==============================] - 0s 1ms/step - loss: 3.6903e-04\n",
            "Epoch 37/50\n",
            "357/357 [==============================] - 0s 1ms/step - loss: 3.6745e-04\n",
            "Epoch 38/50\n",
            "357/357 [==============================] - 0s 1ms/step - loss: 3.6632e-04\n",
            "Epoch 39/50\n",
            "357/357 [==============================] - 0s 1ms/step - loss: 3.6445e-04\n",
            "Epoch 40/50\n",
            "357/357 [==============================] - 0s 1ms/step - loss: 3.6410e-04\n",
            "Epoch 41/50\n",
            "357/357 [==============================] - 1s 2ms/step - loss: 3.6401e-04\n",
            "Epoch 42/50\n",
            "357/357 [==============================] - 1s 2ms/step - loss: 3.6340e-04\n",
            "Epoch 43/50\n",
            "357/357 [==============================] - 1s 2ms/step - loss: 3.6250e-04\n",
            "Epoch 44/50\n",
            "357/357 [==============================] - 1s 2ms/step - loss: 3.6289e-04\n",
            "Epoch 45/50\n",
            "357/357 [==============================] - 1s 2ms/step - loss: 3.6218e-04\n",
            "Epoch 46/50\n",
            "357/357 [==============================] - 0s 1ms/step - loss: 3.6189e-04\n",
            "Epoch 47/50\n",
            "357/357 [==============================] - 0s 1ms/step - loss: 3.6254e-04\n",
            "Epoch 48/50\n",
            "357/357 [==============================] - 0s 1ms/step - loss: 3.6162e-04\n",
            "Epoch 49/50\n",
            "357/357 [==============================] - 0s 1ms/step - loss: 3.6173e-04\n",
            "Epoch 50/50\n",
            "357/357 [==============================] - 0s 1ms/step - loss: 3.6127e-04\n",
            "357/357 [==============================] - 0s 882us/step\n"
          ]
        }
      ]
    },
    {
      "cell_type": "code",
      "source": [
        "0.01923877287922407"
      ],
      "metadata": {
        "colab": {
          "base_uri": "https://localhost:8080/"
        },
        "id": "REXlmY_FA3VL",
        "outputId": "2286df5a-f647-4ad6-9ecd-0fac8b209b07"
      },
      "execution_count": null,
      "outputs": [
        {
          "output_type": "execute_result",
          "data": {
            "text/plain": [
              "0.01923877287922407"
            ]
          },
          "metadata": {},
          "execution_count": 20
        }
      ]
    },
    {
      "cell_type": "code",
      "source": [
        "# Set a threshold for anomaly detection (e.g., 95th percentile)\n",
        "threshold = np.percentile(reconstruction_errors, 99.99)\n",
        "print('threshold for anomaly detection:', threshold)\n",
        "for i, data_set in enumerate(datasets_L12):\n",
        "  print('=====================dataset',i,'========================')\n",
        "  # Detect anomalies in new_data\n",
        "  new_data_reconstructed = autoencoder.predict(data_set.iloc[:,1:].values)\n",
        "  new_data_errors = np.mean(np.square(data_set.iloc[:,1:].values - new_data_reconstructed), axis=1)\n",
        "  print(len(new_data_errors)==data_set.shape[0])\n",
        "  print(data_set.shape[0])\n",
        "  anomaly_timestamp=[]\n",
        "  for j in range(len(new_data_errors)):\n",
        "    if new_data_errors[j] > threshold:\n",
        "      anomaly_timestamp.append(j)\n",
        "\n",
        "  if len(anomaly_timestamp)<=1:\n",
        "    continue\n",
        "  else:\n",
        "    for k in range(len(anomaly_timestamp)-1):\n",
        "      if anomaly_timestamp[k+1]-anomaly_timestamp[k]<=10:\n",
        "       print('anomaly detected at Timestamp:', anomaly_timestamp[k])"
      ],
      "metadata": {
        "id": "BEBHnZH7fAuT",
        "colab": {
          "base_uri": "https://localhost:8080/"
        },
        "outputId": "2d3f089b-fdf0-4d8f-c629-9fb9983571da"
      },
      "execution_count": null,
      "outputs": [
        {
          "output_type": "stream",
          "name": "stdout",
          "text": [
            "threshold for anomaly detection: 0.015367996589058665\n",
            "=====================dataset 0 ========================\n",
            "576/576 [==============================] - 1s 1ms/step\n",
            "True\n",
            "18429\n",
            "anomaly detected at Timestamp: 7912\n",
            "anomaly detected at Timestamp: 7913\n",
            "anomaly detected at Timestamp: 7914\n",
            "anomaly detected at Timestamp: 7915\n",
            "anomaly detected at Timestamp: 7916\n",
            "anomaly detected at Timestamp: 7917\n",
            "anomaly detected at Timestamp: 7918\n",
            "anomaly detected at Timestamp: 7919\n",
            "anomaly detected at Timestamp: 7920\n",
            "=====================dataset 1 ========================\n",
            "740/740 [==============================] - 1s 1ms/step\n",
            "True\n",
            "23670\n",
            "anomaly detected at Timestamp: 15852\n",
            "anomaly detected at Timestamp: 15853\n",
            "anomaly detected at Timestamp: 18738\n",
            "=====================dataset 2 ========================\n",
            "1027/1027 [==============================] - 1s 962us/step\n",
            "True\n",
            "32848\n",
            "anomaly detected at Timestamp: 28477\n",
            "anomaly detected at Timestamp: 28478\n",
            "anomaly detected at Timestamp: 28479\n",
            "anomaly detected at Timestamp: 28480\n",
            "anomaly detected at Timestamp: 28481\n",
            "anomaly detected at Timestamp: 28482\n",
            "anomaly detected at Timestamp: 28483\n",
            "anomaly detected at Timestamp: 28484\n",
            "anomaly detected at Timestamp: 28485\n",
            "=====================dataset 3 ========================\n",
            "961/961 [==============================] - 1s 945us/step\n",
            "True\n",
            "30737\n",
            "=====================dataset 4 ========================\n",
            "657/657 [==============================] - 1s 941us/step\n",
            "True\n",
            "21021\n",
            "anomaly detected at Timestamp: 2123\n",
            "anomaly detected at Timestamp: 2124\n",
            "anomaly detected at Timestamp: 2125\n",
            "anomaly detected at Timestamp: 2157\n",
            "=====================dataset 5 ========================\n",
            "1615/1615 [==============================] - 2s 950us/step\n",
            "True\n",
            "51671\n",
            "anomaly detected at Timestamp: 23189\n",
            "anomaly detected at Timestamp: 23190\n",
            "anomaly detected at Timestamp: 23191\n",
            "anomaly detected at Timestamp: 23192\n",
            "anomaly detected at Timestamp: 23193\n",
            "anomaly detected at Timestamp: 23194\n",
            "=====================dataset 6 ========================\n",
            "494/494 [==============================] - 0s 937us/step\n",
            "True\n",
            "15803\n",
            "anomaly detected at Timestamp: 10124\n",
            "anomaly detected at Timestamp: 15775\n",
            "=====================dataset 7 ========================\n",
            "1071/1071 [==============================] - 1s 910us/step\n",
            "True\n",
            "34245\n",
            "anomaly detected at Timestamp: 13704\n",
            "anomaly detected at Timestamp: 13705\n",
            "anomaly detected at Timestamp: 13706\n",
            "anomaly detected at Timestamp: 14151\n",
            "anomaly detected at Timestamp: 14152\n",
            "anomaly detected at Timestamp: 14153\n",
            "anomaly detected at Timestamp: 14154\n",
            "anomaly detected at Timestamp: 14155\n",
            "anomaly detected at Timestamp: 14156\n",
            "anomaly detected at Timestamp: 14157\n",
            "anomaly detected at Timestamp: 14158\n",
            "anomaly detected at Timestamp: 14159\n",
            "anomaly detected at Timestamp: 14160\n",
            "anomaly detected at Timestamp: 14161\n",
            "anomaly detected at Timestamp: 14162\n",
            "anomaly detected at Timestamp: 14163\n",
            "anomaly detected at Timestamp: 14164\n",
            "anomaly detected at Timestamp: 14165\n",
            "anomaly detected at Timestamp: 14166\n",
            "anomaly detected at Timestamp: 14167\n",
            "anomaly detected at Timestamp: 14168\n",
            "anomaly detected at Timestamp: 14169\n",
            "anomaly detected at Timestamp: 14170\n",
            "anomaly detected at Timestamp: 14171\n",
            "anomaly detected at Timestamp: 14172\n",
            "anomaly detected at Timestamp: 14173\n",
            "anomaly detected at Timestamp: 14174\n",
            "anomaly detected at Timestamp: 14175\n",
            "anomaly detected at Timestamp: 14176\n",
            "anomaly detected at Timestamp: 14177\n",
            "anomaly detected at Timestamp: 14178\n",
            "anomaly detected at Timestamp: 14179\n",
            "anomaly detected at Timestamp: 14180\n",
            "anomaly detected at Timestamp: 14181\n",
            "anomaly detected at Timestamp: 14182\n",
            "anomaly detected at Timestamp: 14183\n",
            "anomaly detected at Timestamp: 14184\n",
            "anomaly detected at Timestamp: 14185\n",
            "anomaly detected at Timestamp: 14186\n",
            "anomaly detected at Timestamp: 14187\n",
            "anomaly detected at Timestamp: 14188\n",
            "anomaly detected at Timestamp: 14189\n",
            "anomaly detected at Timestamp: 14190\n",
            "anomaly detected at Timestamp: 14191\n",
            "anomaly detected at Timestamp: 14192\n",
            "anomaly detected at Timestamp: 14193\n",
            "anomaly detected at Timestamp: 14194\n",
            "anomaly detected at Timestamp: 14195\n",
            "anomaly detected at Timestamp: 14196\n",
            "anomaly detected at Timestamp: 14197\n",
            "anomaly detected at Timestamp: 14198\n",
            "anomaly detected at Timestamp: 14199\n",
            "anomaly detected at Timestamp: 14200\n",
            "anomaly detected at Timestamp: 14201\n",
            "anomaly detected at Timestamp: 14202\n",
            "anomaly detected at Timestamp: 14203\n",
            "anomaly detected at Timestamp: 14204\n",
            "anomaly detected at Timestamp: 14205\n",
            "anomaly detected at Timestamp: 14206\n",
            "anomaly detected at Timestamp: 14207\n",
            "anomaly detected at Timestamp: 14208\n",
            "anomaly detected at Timestamp: 14209\n",
            "anomaly detected at Timestamp: 14210\n",
            "anomaly detected at Timestamp: 14211\n",
            "anomaly detected at Timestamp: 14212\n",
            "anomaly detected at Timestamp: 14213\n",
            "anomaly detected at Timestamp: 14214\n",
            "anomaly detected at Timestamp: 14215\n",
            "anomaly detected at Timestamp: 14216\n",
            "anomaly detected at Timestamp: 14217\n",
            "anomaly detected at Timestamp: 14218\n",
            "anomaly detected at Timestamp: 14219\n",
            "anomaly detected at Timestamp: 14220\n",
            "anomaly detected at Timestamp: 14221\n",
            "anomaly detected at Timestamp: 14222\n",
            "anomaly detected at Timestamp: 14223\n",
            "anomaly detected at Timestamp: 14224\n",
            "anomaly detected at Timestamp: 14225\n",
            "anomaly detected at Timestamp: 14226\n",
            "anomaly detected at Timestamp: 14227\n",
            "anomaly detected at Timestamp: 14228\n",
            "anomaly detected at Timestamp: 14229\n",
            "anomaly detected at Timestamp: 14230\n",
            "anomaly detected at Timestamp: 14231\n",
            "anomaly detected at Timestamp: 14232\n",
            "anomaly detected at Timestamp: 14233\n",
            "anomaly detected at Timestamp: 14234\n",
            "anomaly detected at Timestamp: 14235\n",
            "anomaly detected at Timestamp: 14236\n",
            "anomaly detected at Timestamp: 14237\n",
            "anomaly detected at Timestamp: 14238\n",
            "anomaly detected at Timestamp: 14239\n",
            "anomaly detected at Timestamp: 14240\n",
            "anomaly detected at Timestamp: 14241\n",
            "anomaly detected at Timestamp: 14242\n",
            "anomaly detected at Timestamp: 14243\n",
            "anomaly detected at Timestamp: 14244\n",
            "anomaly detected at Timestamp: 14245\n",
            "anomaly detected at Timestamp: 14246\n",
            "anomaly detected at Timestamp: 14247\n",
            "anomaly detected at Timestamp: 14248\n",
            "anomaly detected at Timestamp: 14249\n",
            "anomaly detected at Timestamp: 14250\n",
            "anomaly detected at Timestamp: 14251\n",
            "anomaly detected at Timestamp: 14252\n",
            "anomaly detected at Timestamp: 14253\n",
            "anomaly detected at Timestamp: 14254\n",
            "anomaly detected at Timestamp: 14255\n",
            "anomaly detected at Timestamp: 14256\n",
            "anomaly detected at Timestamp: 14257\n",
            "anomaly detected at Timestamp: 14258\n",
            "anomaly detected at Timestamp: 14259\n",
            "anomaly detected at Timestamp: 14260\n",
            "anomaly detected at Timestamp: 14261\n",
            "anomaly detected at Timestamp: 14262\n",
            "anomaly detected at Timestamp: 14263\n",
            "anomaly detected at Timestamp: 14264\n",
            "anomaly detected at Timestamp: 14265\n",
            "anomaly detected at Timestamp: 14266\n",
            "anomaly detected at Timestamp: 14267\n",
            "anomaly detected at Timestamp: 14268\n",
            "anomaly detected at Timestamp: 14269\n",
            "anomaly detected at Timestamp: 14270\n",
            "anomaly detected at Timestamp: 14271\n",
            "anomaly detected at Timestamp: 14272\n",
            "anomaly detected at Timestamp: 14273\n",
            "anomaly detected at Timestamp: 14274\n",
            "anomaly detected at Timestamp: 14275\n",
            "anomaly detected at Timestamp: 14276\n",
            "anomaly detected at Timestamp: 14277\n",
            "anomaly detected at Timestamp: 14278\n",
            "anomaly detected at Timestamp: 14279\n",
            "anomaly detected at Timestamp: 14280\n",
            "anomaly detected at Timestamp: 14281\n",
            "anomaly detected at Timestamp: 14282\n",
            "anomaly detected at Timestamp: 14283\n",
            "anomaly detected at Timestamp: 14284\n",
            "anomaly detected at Timestamp: 14285\n",
            "anomaly detected at Timestamp: 14286\n",
            "anomaly detected at Timestamp: 14287\n",
            "anomaly detected at Timestamp: 14288\n",
            "anomaly detected at Timestamp: 14289\n",
            "anomaly detected at Timestamp: 14290\n",
            "anomaly detected at Timestamp: 14291\n",
            "anomaly detected at Timestamp: 14292\n",
            "anomaly detected at Timestamp: 14293\n",
            "anomaly detected at Timestamp: 14294\n",
            "anomaly detected at Timestamp: 14295\n",
            "anomaly detected at Timestamp: 14296\n",
            "anomaly detected at Timestamp: 14297\n",
            "anomaly detected at Timestamp: 14298\n",
            "anomaly detected at Timestamp: 14299\n",
            "anomaly detected at Timestamp: 14300\n",
            "anomaly detected at Timestamp: 14301\n",
            "anomaly detected at Timestamp: 14302\n",
            "anomaly detected at Timestamp: 14303\n",
            "anomaly detected at Timestamp: 14304\n",
            "anomaly detected at Timestamp: 14305\n",
            "anomaly detected at Timestamp: 14306\n",
            "anomaly detected at Timestamp: 14307\n",
            "anomaly detected at Timestamp: 14308\n",
            "anomaly detected at Timestamp: 14309\n",
            "anomaly detected at Timestamp: 14310\n",
            "anomaly detected at Timestamp: 14311\n",
            "anomaly detected at Timestamp: 14312\n",
            "anomaly detected at Timestamp: 14319\n",
            "anomaly detected at Timestamp: 14320\n",
            "anomaly detected at Timestamp: 14385\n",
            "anomaly detected at Timestamp: 14386\n",
            "anomaly detected at Timestamp: 14387\n",
            "anomaly detected at Timestamp: 14388\n",
            "anomaly detected at Timestamp: 14389\n",
            "anomaly detected at Timestamp: 14390\n",
            "anomaly detected at Timestamp: 14391\n",
            "anomaly detected at Timestamp: 14392\n",
            "anomaly detected at Timestamp: 14393\n"
          ]
        }
      ]
    },
    {
      "cell_type": "code",
      "source": [],
      "metadata": {
        "id": "g6jCluUWY6v7"
      },
      "execution_count": null,
      "outputs": []
    }
  ]
}